{
 "cells": [
  {
   "cell_type": "code",
   "execution_count": 1,
   "id": "775424dd-1d41-4428-9683-0281a8824228",
   "metadata": {},
   "outputs": [],
   "source": [
    "# link = \"https://fifemon.fnal.gov/kibana/app/kibana#/visualize/edit/33d02c40-8b41-11ee-804b-5759672b811c?_g=(refreshInterval:(pause:!t,value:0),time:(from:'2022-01-01T06:00:00.000Z',mode:absolute,to:'2023-11-25T03:09:25.714Z'))&_a=(filters:!(),linked:!f,query:(language:lucene,query:'Jobsub_Group:dune'),uiState:(vis:(params:(sort:(columnIndex:!n,direction:!n)))),vis:(aggs:!((enabled:!t,id:'1',params:(field:SlotHours),schema:metric,type:sum),(enabled:!t,id:'3',params:(field:MachineAttrGLIDEIN_DUNESite0,missingBucket:!f,missingBucketLabel:Missing,order:desc,orderBy:'1',otherBucket:!f,otherBucketLabel:Other,size:50),schema:bucket,type:terms),(enabled:!t,id:'5',params:(customInterval:'2h',drop_partials:!f,extended_bounds:(),field:'@timestamp',interval:M,min_doc_count:1,timeRange:(from:'2022-01-01T06:00:00.000Z',mode:absolute,to:'2023-11-25T03:09:25.714Z'),useNormalizedEsInterval:!t),schema:bucket,type:date_histogram),(enabled:!t,id:'4',params:(filters:!((input:(query:'NOT(Owner:dunepro)%20AND%20NOT(Jobsub_SubGroup:mars)'),label:Analysis),(input:(query:'Owner:dunepro'),label:Production),(input:(query:'Jobsub_SubGroup:mars'),label:MARS),(input:(query:'*'),label:Total))),schema:bucket,type:filters)),params:(perPage:24,showMetricsAtAllLevels:!f,showPartialRows:!f,showTotal:!f,sort:(columnIndex:!n,direction:!n),totalFunc:sum),title:'DUNE%20monthly%20slot%20hours%20by%20site%20and%20role',type:table))\""
   ]
  },
  {
   "cell_type": "code",
   "execution_count": 2,
   "id": "50f0a4d3-aad5-4acd-a241-2373d60c9e1b",
   "metadata": {},
   "outputs": [],
   "source": [
    "# go to that link, go to inspect and save as formatted csv\n"
   ]
  },
  {
   "cell_type": "code",
   "execution_count": 3,
   "id": "3c74edfc-7c72-46b8-b2f6-06084cea0b2d",
   "metadata": {},
   "outputs": [],
   "source": [
    "# define  bydate(array=None,types=None,locations=None,dates=None,units=None,tag=None):"
   ]
  },
  {
   "cell_type": "code",
   "execution_count": 4,
   "id": "ccfd65c1-4b61-4ac3-b853-f2dea495cc1c",
   "metadata": {
    "jupyter": {
     "source_hidden": true
    },
    "tags": []
   },
   "outputs": [],
   "source": [
    " def bydate(array=None,types=None,locations=None,dates=None,units=None,tag=None):\n",
    "    # metdefhod that makes a table from an array indexed by type, location and date by location and date.\n",
    "    # tag is a tag that tells what the array was\n",
    "    # adds a sum across both row and column\n",
    "    # output is a csv file of the table\n",
    "    lowdate = dates[0]\n",
    "    highdate = dates[-1]\n",
    "    print (lowdate,highdate)\n",
    "    header = \"   time in %s by %s     \"%(units,tag)\n",
    "    header2 = header\n",
    "\n",
    "    for date in dates:\n",
    "        header += \"%10s\"%date\n",
    "        header2 += \",%s\"%date\n",
    "    header += \"     Total\"\n",
    "    header2 += \",Total\\n\"\n",
    "\n",
    "    out = {}\n",
    "    for type in types:\n",
    "        outname = \"output/%s_%s_%s_%s_%s.csv\"%(type,tag,units,lowdate,highdate)\n",
    "        out[type] = open(outname,'w')\n",
    "        out[type].write(header2)\n",
    "\n",
    "    print (locations) \n",
    "\n",
    "    for type in types:  \n",
    "        totalbydate = {}\n",
    "        for date in dates:\n",
    "            totalbydate[date] = 0.0\n",
    "        totaltotal = 0.0\n",
    "        for site in locations:\n",
    "            result = \"%30s\"%site\n",
    "            outstring = \"%s\"%site\n",
    "            total = 0.0\n",
    "\n",
    "            for date in dates:\n",
    "                result += \" %10.3f\"%(array[type][site][date])\n",
    "                outstring += \", %10.3f\"%(array[type][site][date])\n",
    "                total += (array[type][site][date])\n",
    "                totalbydate[date]+= (array[type][site][date])\n",
    "            totaltotal+=total           \n",
    "            outstring += \",%10.3f\\n\"%total\n",
    "            #print (outstring)\n",
    "            out[type].write(outstring)\n",
    "        outstring = \"%s\"%\"Total\"\n",
    "        for date in dates:\n",
    "            outstring += \", %10.3f\"%(totalbydate[date])\n",
    "        outstring += \",%10.3f\\n\"%totaltotal \n",
    "        out[type].write(outstring)\n",
    "        out[type].close()"
   ]
  },
  {
   "cell_type": "code",
   "execution_count": 5,
   "id": "0af9d613-45b3-4b22-95de-296acb851c34",
   "metadata": {
    "tags": []
   },
   "outputs": [],
   "source": [
    "import csv\n",
    "\n",
    "# ken\n",
    "#  \"https://fifemon.fnal.gov/kibana/app/kibana#/visualize/edit/33d02c40-8b41-11ee-804b-5759672b811c?_g=(refreshInterval:(pause:!t,value:0),time:(from:'2022-01-01T06:00:00.000Z',mode:absolute,to:'2023-11-25T03:09:25.714Z'))&_a=(filters:!(),linked:!f,query:(language:lucene,query:'Jobsub_Group:dune'),uiState:(vis:(params:(sort:(columnIndex:!n,direction:!n)))),vis:(aggs:!((enabled:!t,id:'1',params:(field:SlotHours),schema:metric,type:sum),(enabled:!t,id:'3',params:(field:MachineAttrGLIDEIN_DUNESite0,missingBucket:!f,missingBucketLabel:Missing,order:desc,orderBy:'1',otherBucket:!f,otherBucketLabel:Other,size:50),schema:bucket,type:terms),(enabled:!t,id:'5',params:(customInterval:'2h',drop_partials:!f,extended_bounds:(),field:'@timestamp',interval:M,min_doc_count:1,timeRange:(from:'2022-01-01T06:00:00.000Z',mode:absolute,to:'2023-11-25T03:09:25.714Z'),useNormalizedEsInterval:!t),schema:bucket,type:date_histogram),(enabled:!t,id:'4',params:(filters:!((input:(query:'NOT(Owner:dunepro)%20AND%20NOT(Jobsub_SubGroup:mars)'),label:Analysis),(input:(query:'Owner:dunepro'),label:Production),(input:(query:'Jobsub_SubGroup:mars'),label:MARS),(input:(query:'*'),label:Total))),schema:bucket,type:filters)),params:(perPage:24,showMetricsAtAllLevels:!f,showPartialRows:!f,showTotal:!f,sort:(columnIndex:!n,direction:!n),totalFunc:sum),title:'DUNE%20monthly%20slot%20hours%20by%20site%20and%20role',type:table))\"\n",
    "\n",
    "# wenlong https://fifemon.fnal.gov/kibana/app/kibana#/dashboard/83d7b0c0-8b1c-11ee-804b-5759672b811c?_g=(refreshInterval:(pause:!t,value:0),time:(from:now-1y,mode:quick,to:now))&_a=(description:%27%27,filters:!(),fullScreenMode:!f,options:(darkTheme:!t,hidePanelTitles:!f,useMargins:!t),panels:!((embeddableConfig:(),gridData:(h:14,i:%271%27,w:48,x:0,y:0),id:%2757162130-8b1b-11ee-804b-5759672b811c%27,panelIndex:%271%27,type:visualization,version:%276.8.23%27),(embeddableConfig:(),gridData:(h:16,i:%272%27,w:48,x:0,y:14),id:%275ee81fc0-8b1c-11ee-804b-5759672b811c%27,panelIndex:%272%27,type:visualization,version:%276.8.23%27)),query:(language:lucene,query:%27%27),timeRestore:!t,title:fifebatch-jobs-dune,viewMode:view)\n",
    "\n",
    "# choose your units\n",
    "\n",
    "name = 'DUNE monthly slot hours by site and role-2.csv'\n",
    "inunits=\"Hr\"\n",
    "HoursPerYear=(24*365)\n",
    "HoursPerMonth=HoursPerYear/12.\n",
    "CPUHrPerkHS23=1000/11.\n",
    "Units = {\"MHr\":1000000.,\"CoreYears\":HoursPerYear,\"kHS23-Hrs\":CPUHrPerkHS23}\n",
    "outunits = \"kHS23-Hrs\"\n",
    "\n",
    "# make choices here\n",
    "lowdate = \"2022-01\"\n",
    "highdate = \"2022-12\" \n",
    "units=Units[outunits]"
   ]
  },
  {
   "cell_type": "code",
   "execution_count": 6,
   "id": "59e7aaf0-69b4-469e-a283-ea72f093e46a",
   "metadata": {},
   "outputs": [],
   "source": [
    "Data = {}\n",
    "ByCountry = {}\n",
    "sites = []\n",
    "types = []\n",
    "dates = []\n",
    "countries = []"
   ]
  },
  {
   "cell_type": "code",
   "execution_count": 7,
   "id": "3caab8a9-a39b-4d85-9a30-74fa7ca7b31d",
   "metadata": {},
   "outputs": [
    {
     "name": "stdout",
     "output_type": "stream",
     "text": [
      "['US_FermiGrid', 'US_FNAL-FermiGrid', 'NL_SURFsara', 'UK_RAL-Tier1', 'CERN', 'UK_RAL-PPD', 'undefined', 'UK_Manchester', 'CZ_FZU', 'IN_TIFR', 'ES_PIC', 'UK_QMUL', 'NL_NIKHEF', 'UK_Bristol', 'FR_CCIN2P3', 'UK_Lancaster', 'US_BNL', 'UK_Imperial', 'RU_JINR', 'CA_Victoria', 'US_Colorado', 'BR_CBPF', 'UK_Brunel', 'UK_Oxford', 'US_UChicago', 'US_NERSC', 'UK_Edinburgh', 'US_SU-ITS', 'UK_Sheffield', 'UK_Liverpool', 'US_FNAL-T1', 'US_UCSD', 'ES_CIEMAT', 'US_WSU', 'US_Wisconsin', 'US_PuertoRico', 'US_UConn-HPC', 'US_NotreDame', 'CH_UNIBE-LHEP', 'IT_CNAF', 'CA_SFU', 'US_Michigan', 'US_Caltech', 'US_Nebraska', 'US_Omaha', 'US_Swan', 'US_MWT2']\n",
      "['US', 'NL', 'UK', 'CERN', 'undefined', 'CZ', 'IN', 'ES', 'FR', 'RU', 'CA', 'BR', 'CH', 'IT']\n",
      "['2022-01', '2022-02', '2022-03', '2022-04', '2022-05', '2022-06', '2022-07', '2022-08', '2022-09', '2022-10', '2022-11', '2022-12', '2023-01', '2023-02', '2023-03', '2023-04', '2023-05', '2023-06', '2023-07', '2023-08', '2023-09', '2023-10', '2023-11']\n"
     ]
    }
   ],
   "source": [
    "# read in csv and parse into array\n",
    "\n",
    "with open(name,'r') as csv_file:\n",
    "    csv_reader = csv.reader(csv_file, delimiter=',')\n",
    "    line_count = 0\n",
    "    \n",
    "    for row in csv_reader:\n",
    "        #print (row)\n",
    "        line_count += 1\n",
    "        if line_count == 1:\n",
    "            labels = row\n",
    "            continue\n",
    "        site = row[0] \n",
    "        country = site.split(\"_\")[0]\n",
    "        date = row[1][0:7] # truncate the day\n",
    "        type = row[2]\n",
    "        value = float(row[3].replace(\",\",\"\"))/units\n",
    "        \n",
    "\n",
    "        \n",
    "        if type not in Data.keys():\n",
    "            #print (\"add type\",type)\n",
    "            Data[type]={}\n",
    "            types.append(type)\n",
    "            \n",
    "        if site not in Data[type].keys():\n",
    "            #print (\"add site\",site)\n",
    "            Data[type][site]={}\n",
    "        \n",
    "        \n",
    "        if type not in types: types.append(type)\n",
    "        if site not in sites: sites.append(site)\n",
    "        if date not in dates: dates.append(date)\n",
    "        if country not in countries: countries.append(country)\n",
    "        \n",
    "        Data[type][site][date]=value\n",
    "         \n",
    "        \n",
    "        # print (Data)\n",
    "print (sites)\n",
    "print (countries)  \n",
    "print (dates)\n",
    "\n",
    "sites.sort()\n",
    "countries.sort()\n",
    " "
   ]
  },
  {
   "cell_type": "code",
   "execution_count": 8,
   "id": "9c83db69-a719-49b5-b88a-0410809dcb7d",
   "metadata": {},
   "outputs": [],
   "source": [
    "# fill in the blanks \n",
    "\n",
    "for type in types:\n",
    "    for site in sites:\n",
    "        if site not in Data[type].keys():\n",
    "            Data[type][site]={}\n",
    "        for date in dates:\n",
    "            if date not in Data[type][site].keys():\n",
    "                Data[type][site][date] = 0.0\n",
    "        #print (type,site, Data[type][site])\n",
    "        \n",
    "# make a NoMARS class\n",
    "\n",
    "types.append(\"NoMARS\")\n",
    "Data[\"NoMARS\"] = {}\n",
    "for site in sites:\n",
    "    Data[\"NoMARS\"][site] = {}\n",
    "    for date in dates:\n",
    "        Data[\"NoMARS\"][site][date] = Data[\"Total\"][site][date]-Data[\"MARS\"][site][date]\n",
    "        "
   ]
  },
  {
   "cell_type": "code",
   "execution_count": 9,
   "id": "de08ccc3-0c2a-4f60-ad8a-00c15a6cc013",
   "metadata": {},
   "outputs": [
    {
     "name": "stdout",
     "output_type": "stream",
     "text": [
      "['2022-01', '2022-02', '2022-03', '2022-04', '2022-05', '2022-06', '2022-07', '2022-08', '2022-09', '2022-10', '2022-11', '2022-12']\n"
     ]
    }
   ],
   "source": [
    "\n",
    "\n",
    "# trim the date slist\n",
    "newdates = []\n",
    "for date in dates:\n",
    "    if date < lowdate or date > highdate:\n",
    "                continue\n",
    "    newdates.append(date)\n",
    "dates = newdates\n",
    "print (dates)\n"
   ]
  },
  {
   "cell_type": "code",
   "execution_count": 10,
   "id": "15bf429c-3e75-45d0-966d-837572c71e7b",
   "metadata": {},
   "outputs": [
    {
     "name": "stdout",
     "output_type": "stream",
     "text": [
      "                                     Usage in kHS23-Hrs between 2022-01 and 2022-12\n",
      "                          Site Production   Analysis     NoMARS       MARS      Total\n",
      "                       BR_CBPF    799.642    556.756   1356.398      0.000   1356.398\n",
      "                        CA_SFU      0.566     55.908     56.474      0.000     56.474\n",
      "                   CA_Victoria    951.930   2391.609   3343.538      0.000   3343.538\n",
      "                          CERN  13756.306  11422.994  25179.300      0.000  25179.300\n",
      "                 CH_UNIBE-LHEP      2.062     20.000     22.062      0.000     22.062\n",
      "                        CZ_FZU   3391.579   3654.210   7045.789      0.000   7045.789\n",
      "                     ES_CIEMAT    283.649    335.157    618.806      0.000    618.806\n",
      "                        ES_PIC   4382.780   5274.224   9657.004      0.000   9657.004\n",
      "                    FR_CCIN2P3   1132.998   3030.609   4163.608      0.000   4163.608\n",
      "                       IN_TIFR   5125.447   5330.830  10456.277      0.000  10456.277\n",
      "                       IT_CNAF      0.000      0.000      0.000      0.000      0.000\n",
      "                     NL_NIKHEF   3510.862   3070.511   6581.373      0.000   6581.373\n",
      "                   NL_SURFsara  12470.767  11698.378  24169.144      0.000  24169.144\n",
      "                       RU_JINR    902.490   2798.436   3700.926      0.000   3700.926\n",
      "                    UK_Bristol   4723.595   2691.646   7415.241      0.000   7415.241\n",
      "                     UK_Brunel   1377.779    684.068   2061.846      0.000   2061.846\n",
      "                  UK_Edinburgh    353.625    439.484    793.110      0.000    793.110\n",
      "                   UK_Imperial   2313.375   2666.239   4979.613      0.000   4979.613\n",
      "                  UK_Lancaster   3971.453   2133.889   6105.342      0.000   6105.342\n",
      "                  UK_Liverpool    315.725    466.949    782.674      0.000    782.674\n",
      "                 UK_Manchester   3870.912   7800.245  11671.157      0.000  11671.157\n",
      "                     UK_Oxford   1951.697   1012.054   2963.751      0.000   2963.751\n",
      "                       UK_QMUL   3179.026   4202.474   7381.501      0.000   7381.501\n",
      "                    UK_RAL-PPD   7529.253   6341.863  13871.115      0.000  13871.115\n",
      "                  UK_RAL-Tier1  13783.324   9861.655  23644.979      0.000  23644.979\n",
      "                  UK_Sheffield    545.731    360.318    906.049      0.000    906.049\n",
      "                        US_BNL   3628.899   1930.584   5559.483      0.000   5559.483\n",
      "                    US_Caltech      0.000      0.000      0.000      0.000      0.000\n",
      "                   US_Colorado    848.748    940.788   1789.535      0.000   1789.535\n",
      "             US_FNAL-FermiGrid      0.000      0.000      0.000      0.000      0.000\n",
      "                    US_FNAL-T1      0.000      0.000      0.000      0.000      0.000\n",
      "                  US_FermiGrid  32195.031 218484.883 250679.914 161321.574 412001.488\n",
      "                       US_MWT2      0.000     11.123     11.123      0.000     11.123\n",
      "                   US_Michigan      1.483     79.207     80.690      0.000     80.690\n",
      "                      US_NERSC     38.405      0.000     38.405      0.000     38.405\n",
      "                   US_Nebraska      0.000      0.000      0.000      0.000      0.000\n",
      "                  US_NotreDame     96.697    122.584    219.281      0.000    219.281\n",
      "                      US_Omaha      0.000      0.000      0.000      0.000      0.000\n",
      "                 US_PuertoRico    171.601    219.284    390.885      0.000    390.885\n",
      "                     US_SU-ITS      0.000   1256.210   1256.210      0.000   1256.210\n",
      "                       US_Swan      0.000      0.000      0.000      0.000      0.000\n",
      "                       US_UCSD    358.342    331.338    689.680      0.000    689.680\n",
      "                   US_UChicago      0.000    126.340    126.340      0.000    126.340\n",
      "                  US_UConn-HPC      0.000      0.000      0.000      0.000      0.000\n",
      "                        US_WSU    319.707    140.145    459.851      0.000    459.851\n",
      "                  US_Wisconsin    149.823    211.920    361.743      0.000    361.743\n",
      "                     undefined  19798.914   3018.718  22817.632      0.000  22817.632\n",
      "                         Total 148234.222 315173.627 463407.850 161321.574 624729.423\n"
     ]
    }
   ],
   "source": [
    "print (\"                                     Usage in %s between %s and %s\"%(outunits,lowdate,highdate))\n",
    "print (\"%30s %10s %10s %10s %10s %10s\"%(\"Site\",\"Production\",\"Analysis\",\"NoMARS\",\"MARS\",\"Total\"))\n",
    "\n",
    "\n",
    "totalacrosssite={}\n",
    "for type in types:\n",
    "    totalacrosssite[type] = 0.0\n",
    "for site in sites:\n",
    "    use = {}\n",
    "    for type in types:\n",
    "        use[type] = 0.0        \n",
    "        for date in dates:\n",
    "            use[type] += Data[type][site][date]\n",
    "        if outunits == \"Cores\": \n",
    "            print (\"fix core \")\n",
    "            use[type]/=12. \n",
    "        totalacrosssite[type] += use[type]\n",
    "    \n",
    "     \n",
    "    print (\"%30s %10.3f %10.3f %10.3f %10.3f %10.3f\"%(site,use[\"Production\"],use[\"Analysis\"],use[\"NoMARS\"],use[\"MARS\"],use[\"Total\"])) \n",
    "\n",
    "#totalacrosssite[\"NoMARS\"] = totalacrosssite[\"Total\"] - totalacrosssite[\"MARS\"]\n",
    "print (\"%30s %10.3f %10.3f %10.3f %10.3f %10.3f\"%(\"Total\",totalacrosssite[\"Production\"],totalacrosssite[\"Analysis\"],totalacrosssite[\"NoMARS\"],totalacrosssite[\"MARS\"],totalacrosssite[\"Total\"]))      "
   ]
  },
  {
   "cell_type": "code",
   "execution_count": null,
   "id": "b285d897-0a9c-4c98-837f-0e4b1d292783",
   "metadata": {},
   "outputs": [],
   "source": []
  },
  {
   "cell_type": "code",
   "execution_count": 11,
   "id": "3cf93ed7-ea65-4626-8c7f-c452c3315f7c",
   "metadata": {},
   "outputs": [],
   "source": [
    "# do by country\n",
    "for type in types:\n",
    "    ByCountry[type]={}\n",
    "    for country in countries:\n",
    "        ByCountry[type][country]={}\n",
    "        for date in dates:\n",
    "            ByCountry[type][country][date] = 0.0\n",
    "    for site in sites:\n",
    "        country = site.split(\"_\")[0]\n",
    "        for date in dates:\n",
    "            ByCountry[type][country][date]+=Data[type][site][date]"
   ]
  },
  {
   "cell_type": "code",
   "execution_count": 12,
   "id": "50b90237-5978-4127-9009-e79f6472fa6a",
   "metadata": {},
   "outputs": [
    {
     "name": "stdout",
     "output_type": "stream",
     "text": [
      "                              Usage in kHS23-Hrs between 2022-01 and 2022-12\n",
      "                       Country Production   Analysis     NoMARS       MARS      Total\n",
      "                            BR    799.642    556.756   1356.398      0.000   1356.398\n",
      "                            CA    952.496   2447.517   3400.012      0.000   3400.012\n",
      "                          CERN  13756.306  11422.994  25179.300      0.000  25179.300\n",
      "                            CH      2.062     20.000     22.062      0.000     22.062\n",
      "                            CZ   3391.579   3654.210   7045.789      0.000   7045.789\n",
      "                            ES   4666.429   5609.381  10275.810      0.000  10275.810\n",
      "                            FR   1132.998   3030.609   4163.608      0.000   4163.608\n",
      "                            IN   5125.447   5330.830  10456.277      0.000  10456.277\n",
      "                            IT      0.000      0.000      0.000      0.000      0.000\n",
      "                            NL  15981.628  14768.889  30750.517      0.000  30750.517\n",
      "                            RU    902.490   2798.436   3700.926      0.000   3700.926\n",
      "                            UK  43915.495  38660.884  82576.379      0.000  82576.379\n",
      "                            US  37808.735 223854.404 261663.138 161321.574 422984.712\n",
      "                     undefined  19798.914   3018.718  22817.632      0.000  22817.632\n",
      "                         Total 148234.222 315173.627 463407.850 161321.574 624729.423\n"
     ]
    }
   ],
   "source": [
    "print (\"                              Usage in %s between %s and %s\"%(outunits,lowdate,highdate))\n",
    "print (\"%30s %10s %10s %10s %10s %10s\"%(\"Country\",\"Production\",\"Analysis\",\"NoMARS\",\"MARS\",\"Total\"))\n",
    "\n",
    "\n",
    "totalacrosssites={}\n",
    "for type in types:\n",
    "    totalacrosssite[type] = 0.0\n",
    "for site in countries:\n",
    "    use = {}\n",
    "    for type in types:\n",
    "        use[type] = 0.0        \n",
    "        for date in dates:\n",
    "            use[type] += ByCountry[type][site][date]\n",
    "        totalacrosssite[type] += use[type]\n",
    "    #use[\"NoMARS\"] = use[\"Total\"] - use[\"MARS\"]  \n",
    "    print (\"%30s %10.3f %10.3f %10.3f %10.3f %10.3f\"%(site,use[\"Production\"],use[\"Analysis\"],use[\"NoMARS\"],use[\"MARS\"],use[\"Total\"])) \n",
    "\n",
    "totalacrosssite[\"NoMARS\"] = totalacrosssite[\"Total\"] - totalacrosssite[\"MARS\"]\n",
    "print (\"%30s %10.3f %10.3f %10.3f %10.3f %10.3f\"%(\"Total\",totalacrosssite[\"Production\"],totalacrosssite[\"Analysis\"],totalacrosssite[\"NoMARS\"],totalacrosssite[\"MARS\"],totalacrosssite[\"Total\"]))      "
   ]
  },
  {
   "cell_type": "code",
   "execution_count": 13,
   "id": "fd10cd2e-d85f-4994-9cd8-05fbe1ced958",
   "metadata": {},
   "outputs": [],
   "source": [
    "# Make a table for each type:"
   ]
  },
  {
   "cell_type": "code",
   "execution_count": 14,
   "id": "4054459f-973d-4bae-923f-6c8296d208a5",
   "metadata": {},
   "outputs": [],
   "source": [
    "# header = \"   time in %s by site        \"%outunits\n",
    "# header2 = header\n",
    "\n",
    "# for date in dates:\n",
    "#     header += \"%10s\"%date\n",
    "#     header2 += \",%s\"%date\n",
    "# header += \"     Total\"\n",
    "# header2 += \",Total\\n\"\n",
    "\n",
    "# out = {}\n",
    "# for type in types:\n",
    "#     outname = \"output/%s_BySite_%s_%s_%s.csv\"%(type,outunits,lowdate,highdate)\n",
    "#     out[type] = open(outname,'w')\n",
    "#     out[type].write(header2+\"\\n\")\n",
    "\n",
    "# print (sites) \n",
    "# for type in types:   \n",
    "#     for site in sites:\n",
    "#         result = \"%30s\"%site\n",
    "#         outstring = \"%s\"%site\n",
    "#         total = 0.0\n",
    "#         for date in dates:\n",
    "#             result += \" %10.3f\"%Data[type][site][date]\n",
    "#             outstring += \", %10.3f\"%(Data[type][site][date])\n",
    "#             total += Data[type][site][date]\n",
    "#         #print (outstring)\n",
    "#         outstring += \",%10.3f\\n\"%total\n",
    "#         out[type].write(outstring)\n",
    "#     out[type].close()"
   ]
  },
  {
   "cell_type": "code",
   "execution_count": 15,
   "id": "46a6f230-6b51-41d4-9d14-b9af0715a633",
   "metadata": {},
   "outputs": [
    {
     "name": "stdout",
     "output_type": "stream",
     "text": [
      "2022-01 2022-12\n",
      "['BR_CBPF', 'CA_SFU', 'CA_Victoria', 'CERN', 'CH_UNIBE-LHEP', 'CZ_FZU', 'ES_CIEMAT', 'ES_PIC', 'FR_CCIN2P3', 'IN_TIFR', 'IT_CNAF', 'NL_NIKHEF', 'NL_SURFsara', 'RU_JINR', 'UK_Bristol', 'UK_Brunel', 'UK_Edinburgh', 'UK_Imperial', 'UK_Lancaster', 'UK_Liverpool', 'UK_Manchester', 'UK_Oxford', 'UK_QMUL', 'UK_RAL-PPD', 'UK_RAL-Tier1', 'UK_Sheffield', 'US_BNL', 'US_Caltech', 'US_Colorado', 'US_FNAL-FermiGrid', 'US_FNAL-T1', 'US_FermiGrid', 'US_MWT2', 'US_Michigan', 'US_NERSC', 'US_Nebraska', 'US_NotreDame', 'US_Omaha', 'US_PuertoRico', 'US_SU-ITS', 'US_Swan', 'US_UCSD', 'US_UChicago', 'US_UConn-HPC', 'US_WSU', 'US_Wisconsin', 'undefined']\n"
     ]
    }
   ],
   "source": [
    "bydate(array=Data,types=types,locations=sites,dates=dates,units=outunits,tag=\"BySite\")"
   ]
  },
  {
   "cell_type": "code",
   "execution_count": 16,
   "id": "1150b2bb-c7d0-4684-a685-36a859f32879",
   "metadata": {},
   "outputs": [
    {
     "name": "stdout",
     "output_type": "stream",
     "text": [
      "2022-01 2022-12\n",
      "['BR', 'CA', 'CERN', 'CH', 'CZ', 'ES', 'FR', 'IN', 'IT', 'NL', 'RU', 'UK', 'US', 'undefined']\n"
     ]
    }
   ],
   "source": [
    "bydate(array=ByCountry,types=types,locations=countries,dates=dates,units=outunits,tag=\"ByCountry\")"
   ]
  },
  {
   "cell_type": "code",
   "execution_count": 17,
   "id": "ec98cad3-5c06-43a2-9638-2bcd41a8286e",
   "metadata": {},
   "outputs": [],
   "source": [
    "# header = \"   time in %s by country      \"%outunits\n",
    "# header2 = header\n",
    "\n",
    "# for date in dates:\n",
    "#     header += \"%10s\"%date\n",
    "#     header2 += \",%s\"%date\n",
    "# header += \"     Total\"\n",
    "# header2 += \",Total\\n\"\n",
    "\n",
    "# out = {}\n",
    "# for type in types:\n",
    "#     outname = \"output/%s_ByCountry_%s_%s_%s.csv\"%(type,outunits,lowdate,highdate)\n",
    "#     out[type] = open(outname,'w')\n",
    "#     out[type].write(header2)\n",
    "\n",
    "# print (countries) \n",
    "\n",
    "# for type in types:  \n",
    "#     totalbydate = {}\n",
    "#     for date in dates:\n",
    "#         totalbydate[date] = 0.0\n",
    "#     totaltotal = 0.0\n",
    "#     for site in countries:\n",
    "#         result = \"%30s\"%site\n",
    "#         outstring = \"%s\"%site\n",
    "#         total = 0.0\n",
    "        \n",
    "#         for date in dates:\n",
    "#             result += \" %10.3f\"%(ByCountry[type][site][date])\n",
    "#             outstring += \", %10.3f\"%(ByCountry[type][site][date])\n",
    "#             total += (ByCountry[type][site][date])\n",
    "#             totalbydate[date]+= (ByCountry[type][site][date])\n",
    "#         totaltotal+=total           \n",
    "#         outstring += \",%10.3f\\n\"%total\n",
    "#         #print (outstring)\n",
    "#         out[type].write(outstring)\n",
    "#     outstring = \"%s\"%\"Total\"\n",
    "#     for date in dates:\n",
    "#         outstring += \", %10.3f\"%(totalbydate[date])\n",
    "#     outstring += \",%10.3f\\n\"%totaltotal \n",
    "#     out[type].write(outstring)\n",
    "#     out[type].close()"
   ]
  },
  {
   "cell_type": "code",
   "execution_count": null,
   "id": "bb53c1db-822e-4e0f-9017-7b39425bb05f",
   "metadata": {},
   "outputs": [],
   "source": []
  }
 ],
 "metadata": {
  "kernelspec": {
   "display_name": "Python 3 (ipykernel)",
   "language": "python",
   "name": "python3"
  },
  "language_info": {
   "codemirror_mode": {
    "name": "ipython",
    "version": 3
   },
   "file_extension": ".py",
   "mimetype": "text/x-python",
   "name": "python",
   "nbconvert_exporter": "python",
   "pygments_lexer": "ipython3",
   "version": "3.9.6"
  }
 },
 "nbformat": 4,
 "nbformat_minor": 5
}
