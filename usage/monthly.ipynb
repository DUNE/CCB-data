{
 "cells": [
  {
   "cell_type": "code",
   "execution_count": 1,
   "id": "775424dd-1d41-4428-9683-0281a8824228",
   "metadata": {},
   "outputs": [],
   "source": [
    "# link = \"https://fifemon.fnal.gov/kibana/app/kibana#/visualize/edit/33d02c40-8b41-11ee-804b-5759672b811c?_g=(refreshInterval:(pause:!t,value:0),time:(from:'2022-01-01T06:00:00.000Z',mode:absolute,to:'2023-11-25T03:09:25.714Z'))&_a=(filters:!(),linked:!f,query:(language:lucene,query:'Jobsub_Group:dune'),uiState:(vis:(params:(sort:(columnIndex:!n,direction:!n)))),vis:(aggs:!((enabled:!t,id:'1',params:(field:SlotHours),schema:metric,type:sum),(enabled:!t,id:'3',params:(field:MachineAttrGLIDEIN_DUNESite0,missingBucket:!f,missingBucketLabel:Missing,order:desc,orderBy:'1',otherBucket:!f,otherBucketLabel:Other,size:50),schema:bucket,type:terms),(enabled:!t,id:'5',params:(customInterval:'2h',drop_partials:!f,extended_bounds:(),field:'@timestamp',interval:M,min_doc_count:1,timeRange:(from:'2022-01-01T06:00:00.000Z',mode:absolute,to:'2023-11-25T03:09:25.714Z'),useNormalizedEsInterval:!t),schema:bucket,type:date_histogram),(enabled:!t,id:'4',params:(filters:!((input:(query:'NOT(Owner:dunepro)%20AND%20NOT(Jobsub_SubGroup:mars)'),label:Analysis),(input:(query:'Owner:dunepro'),label:Production),(input:(query:'Jobsub_SubGroup:mars'),label:MARS),(input:(query:'*'),label:Total))),schema:bucket,type:filters)),params:(perPage:24,showMetricsAtAllLevels:!f,showPartialRows:!f,showTotal:!f,sort:(columnIndex:!n,direction:!n),totalFunc:sum),title:'DUNE%20monthly%20slot%20hours%20by%20site%20and%20role',type:table))\"\n",
    "\n",
    "# https://fifemon.fnal.gov/kibana/app/kibana#/visualize/edit/82db48e0-9db3-11ee-bfa5-035ce1463523?_g=(refreshInterval:(pause:!t,value:0),time:(from:now-30d,mode:quick,to:now))&_a=(filters:!(),linked:!f,query:(language:lucene,query:'Jobsub_Group:dune'),uiState:(vis:(params:(sort:(columnIndex:!n,direction:!n)))),vis:(aggs:!((enabled:!t,id:'1',params:(field:SlotHours),schema:metric,type:sum),(enabled:!t,id:'3',params:(field:MachineAttrGLIDEIN_DUNESite0,missingBucket:!f,missingBucketLabel:Missing,order:desc,orderBy:'1',otherBucket:!f,otherBucketLabel:Other,size:50),schema:bucket,type:terms),(enabled:!t,id:'5',params:(customInterval:'2h',drop_partials:!f,extended_bounds:(),field:'@timestamp',interval:d,min_doc_count:1,timeRange:(from:now-30d,mode:quick,to:now),useNormalizedEsInterval:!t),schema:bucket,type:date_histogram),(enabled:!t,id:'4',params:(filters:!((input:(query:'NOT(Owner:dunepro)%20AND%20NOT(Jobsub_SubGroup:mars)'),label:Analysis),(input:(query:'Owner:dunepro'),label:Production),(input:(query:'Jobsub_SubGroup:mars'),label:MARS),(input:(query:'*'),label:Total))),schema:bucket,type:filters)),params:(perPage:24,showMetricsAtAllLevels:!f,showPartialRows:!f,showTotal:!f,sort:(columnIndex:!n,direction:!n),totalFunc:sum),title:'DUNE%20daily%20slot%20hours%20by%20site%20and%20role',type:table))"
   ]
  },
  {
   "cell_type": "code",
   "execution_count": 2,
   "id": "50f0a4d3-aad5-4acd-a241-2373d60c9e1b",
   "metadata": {},
   "outputs": [],
   "source": [
    "# go to that link, go to inspect and save as formatted csv\n"
   ]
  },
  {
   "cell_type": "code",
   "execution_count": 3,
   "id": "3c74edfc-7c72-46b8-b2f6-06084cea0b2d",
   "metadata": {},
   "outputs": [],
   "source": [
    "# define  bydate(array=None,types=None,locations=None,dates=None,units=None,tag=None):"
   ]
  },
  {
   "cell_type": "code",
   "execution_count": 4,
   "id": "22e47aff-93cf-40dc-8e32-537cd6a20188",
   "metadata": {},
   "outputs": [],
   "source": [
    "import csv\n",
    "import numpy as np\n",
    "import matplotlib.pyplot as plt\n",
    "import math\n"
   ]
  },
  {
   "cell_type": "code",
   "execution_count": 5,
   "id": "5e76d724-162a-4009-b98c-b3e23f72681b",
   "metadata": {},
   "outputs": [],
   "source": [
    "input = \"DUNE monthly slot hours by site and role-2.csv\"\n",
    "input = \"DUNE daily slot hours by site and role.csv\""
   ]
  },
  {
   "cell_type": "code",
   "execution_count": null,
   "id": "c72a35eb-aa1b-439b-9b25-1ef8bb214b1f",
   "metadata": {},
   "outputs": [],
   "source": []
  },
  {
   "cell_type": "code",
   "execution_count": 6,
   "id": "ccfd65c1-4b61-4ac3-b853-f2dea495cc1c",
   "metadata": {
    "tags": []
   },
   "outputs": [],
   "source": [
    " def bydate(array=None,types=None,locations=None,dates=None,unitlabel=None,format=\"10.3f\",tag=None):\n",
    "    # metdefhod that makes a table from an array indexed by type, location and date by location and date.\n",
    "    # tag is a tag that tells what the array was\n",
    "    # adds a sum across both row and column\n",
    "    # output is a csv file of the table\n",
    "    lowdate = dates[0]\n",
    "    highdate = dates[-1]\n",
    "    print (lowdate,highdate)\n",
    "    header = \"   time in %s by %s     \"%(unitlabel,tag)\n",
    "    header2 = header\n",
    "\n",
    "    for date in dates:\n",
    "        header += \"%10s\"%date\n",
    "        header2 += \",%s\"%date\n",
    "    header += \"     Total\"\n",
    "    header2 += \",Total\\n\"\n",
    "    form = \", %%%s\"%format\n",
    "    out = {}\n",
    "    for type in types:\n",
    "        outname = \"output/%s_%s_%s_%s_%s.csv\"%(type,tag,unitlabel,lowdate,highdate)\n",
    "        out[type] = open(outname,'w')\n",
    "        out[type].write(header2)\n",
    "\n",
    "    #print (locations) \n",
    "\n",
    "    for type in types:  \n",
    "        totalbydate = {}\n",
    "        for date in dates:\n",
    "            totalbydate[date] = 0.0\n",
    "        totaltotal = 0.0\n",
    "        for site in locations:\n",
    "            result = \"%30s\"%site\n",
    "            outstring = \"%s\"%site\n",
    "            total = 0.0\n",
    "            \n",
    "            #print (form)\n",
    "            for date in dates:\n",
    "                result += \" %10.3f\"%(array[type][site][date])\n",
    "                outstring += form%(array[type][site][date])\n",
    "                total += (array[type][site][date])\n",
    "                totalbydate[date]+= (array[type][site][date])\n",
    "            totaltotal+=total           \n",
    "            outstring += form%total\n",
    "            outstring += \"\\n\"\n",
    "            #print (outstring)\n",
    "            out[type].write(outstring)\n",
    "        outstring = \"%s\"%\"Total\"\n",
    "        for date in dates:\n",
    "            outstring += form%(totalbydate[date])\n",
    "        outstring += form%totaltotal \n",
    "        outstring += \"\\n\"\n",
    "        out[type].write(outstring)\n",
    "        out[type].close()\n"
   ]
  },
  {
   "cell_type": "code",
   "execution_count": 7,
   "id": "b0a3605f-3a35-4609-8cea-8a2c0f2d61f8",
   "metadata": {
    "jupyter": {
     "source_hidden": true
    },
    "tags": []
   },
   "outputs": [],
   "source": [
    "def plotme(tuple=None,unitlabel=None,tag=None):\n",
    "     \n",
    "    ny = len(tuple.keys())\n",
    "    for y in tuple.keys():\n",
    "        nx = len(tuple[y])\n",
    "        break\n",
    "    \n",
    "    data = np.zeros((nx,ny),dtype=float)\n",
    "    #print (nx,ny)\n",
    "    #print (data)\n",
    "    \n",
    "    ix = 0\n",
    "    for kx  in list(tuple.keys()):\n",
    "        if kx == \"Total\": continue\n",
    "        iy = 0\n",
    "        \n",
    "        for ky in list(tuple[kx].keys()):\n",
    "            if ky == \"Total\": continue\n",
    "            #print (kx,ky,ix,iy)\n",
    "            # convert to log without messing with original data\n",
    "            data[iy][ix] = (tuple[kx][ky])\n",
    "            if data[iy][ix] <= 0: data[iy][ix] = .001\n",
    "            data[iy][ix] = math.log10(data[iy][ix])       \n",
    "            iy += 1\n",
    "        ix += 1\n",
    "   \n",
    "    data = data.transpose()\n",
    "    \n",
    "    \n",
    "    \n",
    "    plt.figure(figsize = (nx/2.,ny/3.))\n",
    "    plt.imshow(data,aspect='auto') \n",
    "    plt.subplots_adjust(left=0.30)\n",
    "    ax = plt.gca()\n",
    "    #plt.set_size_inches(nx/3., ny/3.) \n",
    "\n",
    "    # axes = plt.gcf().axes \n",
    "    # ax = axes[0]\n",
    "    # ay = axes[1]\n",
    "    # print (axes)\n",
    "    plt.ylabel(\"Location\")\n",
    "    y_tick_labels = list(tuple.keys())\n",
    "    x_tick_labels = list(tuple[y_tick_labels[0]].keys())\n",
    "    plt.title(\"Log10 %s for %s\"%(unitlabel,tag.replace(\"_\",\" \")))\n",
    "    ax.xaxis.set_ticks(np.arange(0,len(x_tick_labels),1))\n",
    "    ax.yaxis.set_ticks(np.arange(0,len(y_tick_labels),1))\n",
    "    ax.set_xticklabels(x_tick_labels, rotation=70, fontsize=10)\n",
    "    ax.set_yticklabels(y_tick_labels, fontsize=10)\n",
    "    plt.xlabel(\"Month\")\n",
    "    cbar = plt.colorbar()\n",
    "    cbar.set_label(\"Log10 of %s\"%unitlabel, rotation=270)\n",
    "    plt.savefig(\"pix/\"+tag+\".png\",transparent=False)       \n",
    "    \n",
    "    "
   ]
  },
  {
   "cell_type": "code",
   "execution_count": 8,
   "id": "0af9d613-45b3-4b22-95de-296acb851c34",
   "metadata": {
    "tags": []
   },
   "outputs": [],
   "source": [
    "\n",
    "\n",
    "# ken\n",
    "#  https://fifemon.fnal.gov/kibana/app/kibana#/visualize/edit/33d02c40-8b41-11ee-804b-5759672b811c?_g=(refreshInterval:(pause:!t,value:0),time:(from:'2022-01-01T06:00:00.000Z',mode:absolute,to:'2023-11-25T03:09:25.714Z'))&_a=(filters:!(),linked:!f,query:(language:lucene,query:'Jobsub_Group:dune'),uiState:(vis:(params:(sort:(columnIndex:!n,direction:!n)))),vis:(aggs:!((enabled:!t,id:'1',params:(field:SlotHours),schema:metric,type:sum),(enabled:!t,id:'3',params:(field:MachineAttrGLIDEIN_DUNESite0,missingBucket:!f,missingBucketLabel:Missing,order:desc,orderBy:'1',otherBucket:!f,otherBucketLabel:Other,size:50),schema:bucket,type:terms),(enabled:!t,id:'5',params:(customInterval:'2h',drop_partials:!f,extended_bounds:(),field:'@timestamp',interval:M,min_doc_count:1,timeRange:(from:'2022-01-01T06:00:00.000Z',mode:absolute,to:'2023-11-25T03:09:25.714Z'),useNormalizedEsInterval:!t),schema:bucket,type:date_histogram),(enabled:!t,id:'4',params:(filters:!((input:(query:'NOT(Owner:dunepro)%20AND%20NOT(Jobsub_SubGroup:mars)'),label:Analysis),(input:(query:'Owner:dunepro'),label:Production),(input:(query:'Jobsub_SubGroup:mars'),label:MARS),(input:(query:'*'),label:Total))),schema:bucket,type:filters)),params:(perPage:24,showMetricsAtAllLevels:!f,showPartialRows:!f,showTotal:!f,sort:(columnIndex:!n,direction:!n),totalFunc:sum),title:'DUNE%20monthly%20slot%20hours%20by%20site%20and%20role',type:table))\n",
    "\n",
    "# wenlong https://fifemon.fnal.gov/kibana/app/kibana#/dashboard/83d7b0c0-8b1c-11ee-804b-5759672b811c?_g=(refreshInterval:(pause:!t,value:0),time:(from:now-1y,mode:quick,to:now))&_a=(description:%27%27,filters:!(),fullScreenMode:!f,options:(darkTheme:!t,hidePanelTitles:!f,useMargins:!t),panels:!((embeddableConfig:(),gridData:(h:14,i:%271%27,w:48,x:0,y:0),id:%2757162130-8b1b-11ee-804b-5759672b811c%27,panelIndex:%271%27,type:visualization,version:%276.8.23%27),(embeddableConfig:(),gridData:(h:16,i:%272%27,w:48,x:0,y:14),id:%275ee81fc0-8b1c-11ee-804b-5759672b811c%27,panelIndex:%272%27,type:visualization,version:%276.8.23%27)),query:(language:lucene,query:%27%27),timeRestore:!t,title:fifebatch-jobs-dune,viewMode:view)\n",
    "\n",
    "# choose your units\n",
    "\n",
    "name = input\n",
    "inunits=\"Hr\"\n",
    "HoursPerYear=(24*365)\n",
    "HoursPerMonth=HoursPerYear/12.\n",
    "HS23PerCPUHr = 11.\n",
    "kHS23PerCPUHr = HS23PerCPUHr/1000.\n",
    "kHS23PerCPUYr=kHS23PerCPUHr/HoursPerYear\n",
    "Units = {\"MHr\":1/1000000.,\"CoreYears\":1./HoursPerYear,\"kHS23-Hrs\":kHS23PerCPUHr,\"kHS23-Yrs\":kHS23PerCPUYr}\n",
    "Formats = {\"MHr\":\"10.3f\", \"CoreYears\":\"10.1f\", \"kHS23-Hrs\":\"10d\",\"kHS23-Yrs\":\"10.3f\"}\n",
    "outunits = \"kHS23-Hrs\"\n",
    "\n",
    "# make choices here\n",
    "lowdate = \"2022-01-01\"\n",
    "highdate = \"2023-11-01\" \n",
    "units=Units[outunits]\n",
    "format=Formats[outunits]"
   ]
  },
  {
   "cell_type": "code",
   "execution_count": 9,
   "id": "59e7aaf0-69b4-469e-a283-ea72f093e46a",
   "metadata": {},
   "outputs": [],
   "source": [
    "Data = {}\n",
    "ByCountry = {}\n",
    "sites = []\n",
    "types = []\n",
    "dates = []\n",
    "countries = []"
   ]
  },
  {
   "cell_type": "code",
   "execution_count": 10,
   "id": "3caab8a9-a39b-4d85-9a30-74fa7ca7b31d",
   "metadata": {},
   "outputs": [],
   "source": [
    "# read in csv and parse into array\n",
    "\n",
    "with open(name,'r') as csv_file:\n",
    "    csv_reader = csv.reader(csv_file, delimiter=',')\n",
    "    line_count = 0\n",
    "    \n",
    "    for row in csv_reader:\n",
    "        #print (row)\n",
    "        line_count += 1\n",
    "        if line_count == 1:\n",
    "            labels = row\n",
    "            continue\n",
    "        site = row[0] \n",
    "        country = site.split(\"_\")[0]\n",
    "        date = row[1][0:10] # truncate the day\n",
    "        type = row[2]\n",
    "        value = float(row[3].replace(\",\",\"\"))*units\n",
    "        \n",
    "\n",
    "        \n",
    "        if type not in Data.keys():\n",
    "            #print (\"add type\",type)\n",
    "            Data[type]={}\n",
    "            types.append(type)\n",
    "            \n",
    "        if site not in Data[type].keys():\n",
    "            #print (\"add site\",site)\n",
    "            Data[type][site]={}\n",
    "        \n",
    "        \n",
    "        if type not in types: types.append(type)\n",
    "        if site not in sites: sites.append(site)\n",
    "        if date not in dates: dates.append(date)\n",
    "        if country not in countries: countries.append(country)\n",
    "        \n",
    "        Data[type][site][date]=value\n",
    "         \n",
    "        \n",
    "        # print (Data)\n",
    "#print (sites)\n",
    "#print (countries)  \n",
    "#print (dates)\n",
    "\n",
    "sites.sort()\n",
    "countries.sort()\n",
    " "
   ]
  },
  {
   "cell_type": "code",
   "execution_count": 11,
   "id": "9c83db69-a719-49b5-b88a-0410809dcb7d",
   "metadata": {},
   "outputs": [],
   "source": [
    "# fill in the blanks \n",
    "\n",
    "for type in types:\n",
    "    for site in sites:\n",
    "        if site not in Data[type].keys():\n",
    "            Data[type][site]={}\n",
    "        for date in dates:\n",
    "            if date not in Data[type][site].keys():\n",
    "                Data[type][site][date] = 0.0\n",
    "        #print (type,site, Data[type][site])\n",
    "        \n",
    "# make a NoMARS class\n",
    "\n",
    "types.append(\"NoMARS\")\n",
    "Data[\"NoMARS\"] = {}\n",
    "for site in sites:\n",
    "    Data[\"NoMARS\"][site] = {}\n",
    "    for date in dates:\n",
    "        Data[\"NoMARS\"][site][date] = Data[\"Total\"][site][date]-Data[\"MARS\"][site][date]\n",
    "        "
   ]
  },
  {
   "cell_type": "code",
   "execution_count": 12,
   "id": "de08ccc3-0c2a-4f60-ad8a-00c15a6cc013",
   "metadata": {},
   "outputs": [
    {
     "name": "stdout",
     "output_type": "stream",
     "text": [
      "[]\n"
     ]
    }
   ],
   "source": [
    "\n",
    "\n",
    "# trim the dates list\n",
    "newdates = []\n",
    "for date in dates:\n",
    "    if date < lowdate or date > highdate:\n",
    "                continue\n",
    "    newdates.append(date)\n",
    "dates = newdates\n",
    "print (dates)\n"
   ]
  },
  {
   "cell_type": "code",
   "execution_count": 13,
   "id": "b285d897-0a9c-4c98-837f-0e4b1d292783",
   "metadata": {},
   "outputs": [],
   "source": [
    "BySite = {}\n",
    "# do by site within date range\n",
    "for type in types:\n",
    "    BySite[type]={}\n",
    "    for site in sites:\n",
    "        BySite[type][site]={}\n",
    "        for date in dates:\n",
    "            BySite[type][site][date] = Data[type][site][date]"
   ]
  },
  {
   "cell_type": "code",
   "execution_count": null,
   "id": "6dba964a-ebca-48fb-aea3-493485997559",
   "metadata": {},
   "outputs": [],
   "source": []
  },
  {
   "cell_type": "code",
   "execution_count": 14,
   "id": "a93aad68-8b5e-4fa1-a333-f36d90b10a67",
   "metadata": {},
   "outputs": [
    {
     "name": "stdout",
     "output_type": "stream",
     "text": [
      "                                     Usage in kHS23-Hrs between 2022-01-01 and 2023-11-01\n",
      "                          Site Production   Analysis     NoMARS       MARS      Total\n",
      "                       BR_CBPF          0          0          0          0          0\n",
      "                        CA_SFU          0          0          0          0          0\n",
      "                   CA_Victoria          0          0          0          0          0\n",
      "                          CERN          0          0          0          0          0\n",
      "                 CH_UNIBE-LHEP          0          0          0          0          0\n",
      "                        CZ_FZU          0          0          0          0          0\n",
      "                     ES_CIEMAT          0          0          0          0          0\n",
      "                        ES_PIC          0          0          0          0          0\n",
      "                    FR_CCIN2P3          0          0          0          0          0\n",
      "                       IN_TIFR          0          0          0          0          0\n",
      "                       IT_CNAF          0          0          0          0          0\n",
      "                     NL_NIKHEF          0          0          0          0          0\n",
      "                   NL_SURFsara          0          0          0          0          0\n",
      "                    UK_Bristol          0          0          0          0          0\n",
      "                     UK_Brunel          0          0          0          0          0\n",
      "                  UK_Edinburgh          0          0          0          0          0\n",
      "                   UK_Imperial          0          0          0          0          0\n",
      "                  UK_Lancaster          0          0          0          0          0\n",
      "                  UK_Liverpool          0          0          0          0          0\n",
      "                 UK_Manchester          0          0          0          0          0\n",
      "                     UK_Oxford          0          0          0          0          0\n",
      "                       UK_QMUL          0          0          0          0          0\n",
      "                    UK_RAL-PPD          0          0          0          0          0\n",
      "                  UK_RAL-Tier1          0          0          0          0          0\n",
      "                  UK_Sheffield          0          0          0          0          0\n",
      "                        US_BNL          0          0          0          0          0\n",
      "                   US_Colorado          0          0          0          0          0\n",
      "             US_FNAL-FermiGrid          0          0          0          0          0\n",
      "                    US_FNAL-T1          0          0          0          0          0\n",
      "                   US_Michigan          0          0          0          0          0\n",
      "                      US_NERSC          0          0          0          0          0\n",
      "                  US_NotreDame          0          0          0          0          0\n",
      "                 US_PuertoRico          0          0          0          0          0\n",
      "                     US_SU-ITS          0          0          0          0          0\n",
      "                       US_Swan          0          0          0          0          0\n",
      "                       US_UCSD          0          0          0          0          0\n",
      "                   US_UChicago          0          0          0          0          0\n",
      "                  US_UConn-HPC          0          0          0          0          0\n",
      "                        US_WSU          0          0          0          0          0\n",
      "                  US_Wisconsin          0          0          0          0          0\n",
      "                     undefined          0          0          0          0          0\n",
      "                         Total          0          0          0          0          0\n"
     ]
    }
   ],
   "source": [
    "print (\"                                     Usage in %s between %s and %s\"%(outunits,lowdate,highdate))\n",
    "print (\"%30s %10s %10s %10s %10s %10s\"%(\"Site\",\"Production\",\"Analysis\",\"NoMARS\",\"MARS\",\"Total\"))\n",
    "ByType={}\n",
    "for site in sites:\n",
    "    ByType[site]={}\n",
    "totalacrosssite={}\n",
    "for type in [\"Production\",\"Analysis\",\"MARS\",\"NoMARS\",\"Total\"]:\n",
    "    totalacrosssite[type] = 0.0\n",
    "for site in sites:\n",
    "    use = {}\n",
    "    for type in [\"Production\",\"Analysis\",\"MARS\",\"NoMARS\",\"Total\"]:\n",
    "        use[type] = 0.0        \n",
    "        for date in dates:\n",
    "            use[type] += BySite[type][site][date]\n",
    "        #totalacrosssite[type] += use[type]\n",
    "        ByType[site][type]=use[type]\n",
    "    #print (\"bt\",ByType[site])\n",
    "    #ByType[site][\"NoMARS\"] = ByType[site][\"Total\"] - ByType[site][\"MARS\"] \n",
    "    if \"10.3\" in format: \n",
    "        print (\"%30s %10.3f %10.3f %10.3f %10.3f %10.3f\"%(site,use[\"Production\"],use[\"Analysis\"],use[\"NoMARS\"],use[\"MARS\"],use[\"Total\"])) \n",
    "    else:\n",
    "        print (\"%30s %10d %10d %10d %10d %10d\"%(site,use[\"Production\"],use[\"Analysis\"],use[\"NoMARS\"],use[\"MARS\"],use[\"Total\"])) \n",
    "\n",
    "        \n",
    "#totalacrosssite[\"NoMARS\"] = totalacrosssite[\"Total\"] - totalacrosssite[\"MARS\"]\n",
    "if \"10.3\" in format:\n",
    "    print (\"%30s %10.3f %10.3f %10.3f %10.3f %10.3f\"%(\"Total\",totalacrosssite[\"Production\"],totalacrosssite[\"Analysis\"],totalacrosssite[\"NoMARS\"],totalacrosssite[\"MARS\"],totalacrosssite[\"Total\"]))  \n",
    "else:\n",
    "    print (\"%30s %10d %10d %10d %10d %10d\"%(\"Total\",totalacrosssite[\"Production\"],totalacrosssite[\"Analysis\"],totalacrosssite[\"NoMARS\"],totalacrosssite[\"MARS\"],totalacrosssite[\"Total\"]))      "
   ]
  },
  {
   "cell_type": "code",
   "execution_count": 15,
   "id": "3cf93ed7-ea65-4626-8c7f-c452c3315f7c",
   "metadata": {},
   "outputs": [],
   "source": [
    "# do by country\n",
    "for type in types:\n",
    "    ByCountry[type]={}\n",
    "    for country in countries:\n",
    "        ByCountry[type][country]={}\n",
    "        for date in dates:\n",
    "            ByCountry[type][country][date] = 0.0\n",
    "    for site in sites:\n",
    "        country = site.split(\"_\")[0]\n",
    "        for date in dates:\n",
    "            ByCountry[type][country][date]+=Data[type][site][date]"
   ]
  },
  {
   "cell_type": "code",
   "execution_count": 16,
   "id": "50b90237-5978-4127-9009-e79f6472fa6a",
   "metadata": {},
   "outputs": [
    {
     "name": "stdout",
     "output_type": "stream",
     "text": [
      "                              Usage in kHS23-Hrs between 2022-01-01 and 2023-11-01\n",
      "                       Country Production   Analysis     NoMARS       MARS      Total\n",
      "                            BR          0          0          0          0          0\n",
      "                            CA          0          0          0          0          0\n",
      "                          CERN          0          0          0          0          0\n",
      "                            CH          0          0          0          0          0\n",
      "                            CZ          0          0          0          0          0\n",
      "                            ES          0          0          0          0          0\n",
      "                            FR          0          0          0          0          0\n",
      "                            IN          0          0          0          0          0\n",
      "                            IT          0          0          0          0          0\n",
      "                            NL          0          0          0          0          0\n",
      "                            UK          0          0          0          0          0\n",
      "                            US          0          0          0          0          0\n",
      "                     undefined          0          0          0          0          0\n",
      "                         Total          0          0          0          0          0\n"
     ]
    }
   ],
   "source": [
    "print (\"                              Usage in %s between %s and %s\"%(outunits,lowdate,highdate))\n",
    "print (\"%30s %10s %10s %10s %10s %10s\"%(\"Country\",\"Production\",\"Analysis\",\"NoMARS\",\"MARS\",\"Total\"))\n",
    "\n",
    "\n",
    "totalacrosssites={}\n",
    "for type in types:\n",
    "    totalacrosssite[type] = 0.0\n",
    "for site in countries:\n",
    "    use = {}\n",
    "    for type in types:\n",
    "        use[type] = 0.0        \n",
    "        for date in dates:\n",
    "            use[type] += ByCountry[type][site][date]\n",
    "        totalacrosssite[type] += use[type]\n",
    "    #use[\"NoMARS\"] = use[\"Total\"] - use[\"MARS\"]  \n",
    "    if \"10.3\" in format:\n",
    "        print (\"%30s %10.3f %10.3f %10.3f %10.3f %10.3f\"%(site,use[\"Production\"],use[\"Analysis\"],use[\"NoMARS\"],use[\"MARS\"],use[\"Total\"])) \n",
    "    else:\n",
    "        print (\"%30s %10d %10d %10d %10d %10d\"%(site,use[\"Production\"],use[\"Analysis\"],use[\"NoMARS\"],use[\"MARS\"],use[\"Total\"])) \n",
    "\n",
    "totalacrosssite[\"NoMARS\"] = totalacrosssite[\"Total\"] - totalacrosssite[\"MARS\"]\n",
    "if \"10.3\" in format:\n",
    "    print (\"%30s %10.3f %10.3f %10.3f %10.3f %10.3f\"%(\"Total\",totalacrosssite[\"Production\"],totalacrosssite[\"Analysis\"],totalacrosssite[\"NoMARS\"],totalacrosssite[\"MARS\"],totalacrosssite[\"Total\"]))  \n",
    "else:\n",
    "    print (\"%30s %10d %10d %10d %10d %10d\"%(\"Total\",totalacrosssite[\"Production\"],totalacrosssite[\"Analysis\"],totalacrosssite[\"NoMARS\"],totalacrosssite[\"MARS\"],totalacrosssite[\"Total\"]))      "
   ]
  },
  {
   "cell_type": "code",
   "execution_count": 17,
   "id": "fd10cd2e-d85f-4994-9cd8-05fbe1ced958",
   "metadata": {},
   "outputs": [],
   "source": [
    "# Make a table for each type:"
   ]
  },
  {
   "cell_type": "code",
   "execution_count": 18,
   "id": "4054459f-973d-4bae-923f-6c8296d208a5",
   "metadata": {},
   "outputs": [],
   "source": [
    "# header = \"   time in %s by site        \"%outunits\n",
    "# header2 = header\n",
    "\n",
    "# for date in dates:\n",
    "#     header += \"%10s\"%date\n",
    "#     header2 += \",%s\"%date\n",
    "# header += \"     Total\"\n",
    "# header2 += \",Total\\n\"\n",
    "\n",
    "# out = {}\n",
    "# for type in types:\n",
    "#     outname = \"output/%s_BySite_%s_%s_%s.csv\"%(type,outunits,lowdate,highdate)\n",
    "#     out[type] = open(outname,'w')\n",
    "#     out[type].write(header2+\"\\n\")\n",
    "\n",
    "# print (sites) \n",
    "# for type in types:   \n",
    "#     for site in sites:\n",
    "#         result = \"%30s\"%site\n",
    "#         outstring = \"%s\"%site\n",
    "#         total = 0.0\n",
    "#         for date in dates:\n",
    "#             result += \" %10.3f\"%Data[type][site][date]\n",
    "#             outstring += \", %10.3f\"%(Data[type][site][date])\n",
    "#             total += Data[type][site][date]\n",
    "#         #print (outstring)\n",
    "#         outstring += \",%10.3f\\n\"%total\n",
    "#         out[type].write(outstring)\n",
    "#     out[type].close()"
   ]
  },
  {
   "cell_type": "code",
   "execution_count": null,
   "id": "67fe74e6-f4e2-457d-b8b2-8bcfb378916c",
   "metadata": {},
   "outputs": [],
   "source": []
  },
  {
   "cell_type": "code",
   "execution_count": 19,
   "id": "46a6f230-6b51-41d4-9d14-b9af0715a633",
   "metadata": {},
   "outputs": [
    {
     "ename": "IndexError",
     "evalue": "list index out of range",
     "output_type": "error",
     "traceback": [
      "\u001b[0;31m---------------------------------------------------------------------------\u001b[0m",
      "\u001b[0;31mIndexError\u001b[0m                                Traceback (most recent call last)",
      "Cell \u001b[0;32mIn[19], line 1\u001b[0m\n\u001b[0;32m----> 1\u001b[0m \u001b[43mbydate\u001b[49m\u001b[43m(\u001b[49m\u001b[43marray\u001b[49m\u001b[38;5;241;43m=\u001b[39;49m\u001b[43mData\u001b[49m\u001b[43m,\u001b[49m\u001b[43mtypes\u001b[49m\u001b[38;5;241;43m=\u001b[39;49m\u001b[43mtypes\u001b[49m\u001b[43m,\u001b[49m\u001b[43mlocations\u001b[49m\u001b[38;5;241;43m=\u001b[39;49m\u001b[43msites\u001b[49m\u001b[43m,\u001b[49m\u001b[43mdates\u001b[49m\u001b[38;5;241;43m=\u001b[39;49m\u001b[43mdates\u001b[49m\u001b[43m,\u001b[49m\u001b[43munitlabel\u001b[49m\u001b[38;5;241;43m=\u001b[39;49m\u001b[43moutunits\u001b[49m\u001b[43m,\u001b[49m\u001b[38;5;28;43mformat\u001b[39;49m\u001b[38;5;241;43m=\u001b[39;49m\u001b[38;5;28;43mformat\u001b[39;49m\u001b[43m,\u001b[49m\u001b[43mtag\u001b[49m\u001b[38;5;241;43m=\u001b[39;49m\u001b[38;5;124;43m\"\u001b[39;49m\u001b[38;5;124;43mBySite\u001b[39;49m\u001b[38;5;124;43m\"\u001b[39;49m\u001b[43m)\u001b[49m\n",
      "Cell \u001b[0;32mIn[6], line 6\u001b[0m, in \u001b[0;36mbydate\u001b[0;34m(array, types, locations, dates, unitlabel, format, tag)\u001b[0m\n\u001b[1;32m      1\u001b[0m \u001b[38;5;28;01mdef\u001b[39;00m \u001b[38;5;21mbydate\u001b[39m(array\u001b[38;5;241m=\u001b[39m\u001b[38;5;28;01mNone\u001b[39;00m,types\u001b[38;5;241m=\u001b[39m\u001b[38;5;28;01mNone\u001b[39;00m,locations\u001b[38;5;241m=\u001b[39m\u001b[38;5;28;01mNone\u001b[39;00m,dates\u001b[38;5;241m=\u001b[39m\u001b[38;5;28;01mNone\u001b[39;00m,unitlabel\u001b[38;5;241m=\u001b[39m\u001b[38;5;28;01mNone\u001b[39;00m,\u001b[38;5;28mformat\u001b[39m\u001b[38;5;241m=\u001b[39m\u001b[38;5;124m\"\u001b[39m\u001b[38;5;124m10.3f\u001b[39m\u001b[38;5;124m\"\u001b[39m,tag\u001b[38;5;241m=\u001b[39m\u001b[38;5;28;01mNone\u001b[39;00m):\n\u001b[1;32m      2\u001b[0m    \u001b[38;5;66;03m# metdefhod that makes a table from an array indexed by type, location and date by location and date.\u001b[39;00m\n\u001b[1;32m      3\u001b[0m    \u001b[38;5;66;03m# tag is a tag that tells what the array was\u001b[39;00m\n\u001b[1;32m      4\u001b[0m    \u001b[38;5;66;03m# adds a sum across both row and column\u001b[39;00m\n\u001b[1;32m      5\u001b[0m    \u001b[38;5;66;03m# output is a csv file of the table\u001b[39;00m\n\u001b[0;32m----> 6\u001b[0m    lowdate \u001b[38;5;241m=\u001b[39m \u001b[43mdates\u001b[49m\u001b[43m[\u001b[49m\u001b[38;5;241;43m0\u001b[39;49m\u001b[43m]\u001b[49m\n\u001b[1;32m      7\u001b[0m    highdate \u001b[38;5;241m=\u001b[39m dates[\u001b[38;5;241m-\u001b[39m\u001b[38;5;241m1\u001b[39m]\n\u001b[1;32m      8\u001b[0m    \u001b[38;5;28mprint\u001b[39m (lowdate,highdate)\n",
      "\u001b[0;31mIndexError\u001b[0m: list index out of range"
     ]
    }
   ],
   "source": [
    "bydate(array=Data,types=types,locations=sites,dates=dates,unitlabel=outunits,format=format,tag=\"BySite\")"
   ]
  },
  {
   "cell_type": "code",
   "execution_count": null,
   "id": "1150b2bb-c7d0-4684-a685-36a859f32879",
   "metadata": {},
   "outputs": [],
   "source": [
    "\n",
    "bydate(array=ByCountry,types=types,locations=countries,dates=dates,unitlabel=outunits,format=format,tag=\"ByCountry\")"
   ]
  },
  {
   "cell_type": "code",
   "execution_count": null,
   "id": "ec98cad3-5c06-43a2-9638-2bcd41a8286e",
   "metadata": {},
   "outputs": [],
   "source": [
    "# header = \"   time in %s by country      \"%outunits\n",
    "# header2 = header\n",
    "\n",
    "# for date in dates:\n",
    "#     header += \"%10s\"%date\n",
    "#     header2 += \",%s\"%date\n",
    "# header += \"     Total\"\n",
    "# header2 += \",Total\\n\"\n",
    "\n",
    "# out = {}\n",
    "# for type in types:\n",
    "#     outname = \"output/%s_ByCountry_%s_%s_%s.csv\"%(type,outunits,lowdate,highdate)\n",
    "#     out[type] = open(outname,'w')\n",
    "#     out[type].write(header2)\n",
    "\n",
    "# print (countries) \n",
    "\n",
    "# for type in types:  \n",
    "#     totalbydate = {}\n",
    "#     for date in dates:\n",
    "#         totalbydate[date] = 0.0\n",
    "#     totaltotal = 0.0\n",
    "#     for site in countries:\n",
    "#         result = \"%30s\"%site\n",
    "#         outstring = \"%s\"%site\n",
    "#         total = 0.0\n",
    "        \n",
    "#         for date in dates:\n",
    "#             result += \" %10.3f\"%(ByCountry[type][site][date])\n",
    "#             outstring += \", %10.3f\"%(ByCountry[type][site][date])\n",
    "#             total += (ByCountry[type][site][date])\n",
    "#             totalbydate[date]+= (ByCountry[type][site][date])\n",
    "#         totaltotal+=total           \n",
    "#         outstring += \",%10.3f\\n\"%total\n",
    "#         #print (outstring)\n",
    "#         out[type].write(outstring)\n",
    "#     outstring = \"%s\"%\"Total\"\n",
    "#     for date in dates:\n",
    "#         outstring += \", %10.3f\"%(totalbydate[date])\n",
    "#     outstring += \",%10.3f\\n\"%totaltotal \n",
    "#     out[type].write(outstring)\n",
    "#     out[type].close()"
   ]
  },
  {
   "cell_type": "code",
   "execution_count": null,
   "id": "bb53c1db-822e-4e0f-9017-7b39425bb05f",
   "metadata": {},
   "outputs": [],
   "source": [
    "plttag = \"%s_%s_%s_%s_%s\"%(type,\"ByCountry\",outunits,lowdate,highdate)\n",
    "plotme(ByCountry[\"Total\"],outunits,tag=plttag)"
   ]
  },
  {
   "cell_type": "code",
   "execution_count": null,
   "id": "86aaf950-cad3-4ef3-a86b-d89f457fb490",
   "metadata": {},
   "outputs": [],
   "source": [
    "plttag = \"%s_%s_%s_%s_%s\"%(type,\"BySite\",outunits,lowdate,highdate)\n",
    "plotme(BySite[\"NoMARS\"],outunits,tag=plttag)"
   ]
  },
  {
   "cell_type": "code",
   "execution_count": null,
   "id": "8d34d1c9-581a-45ba-991d-4099e6a33d30",
   "metadata": {},
   "outputs": [],
   "source": [
    "plotme(ByType,outunits,tag=\"bysite\")\n",
    "#print (ByType[\"US_FermiGrid\"])"
   ]
  },
  {
   "cell_type": "code",
   "execution_count": null,
   "id": "fbcee7aa-b132-4d64-ab62-50b163c98cab",
   "metadata": {},
   "outputs": [],
   "source": [
    "plttag = \"%s_%s_%s_%s_%s\"%(type,\"AllData\",outunits,lowdate,highdate)\n",
    "plotme(Data[\"NoMARS\"],outunits,tag=plttag)"
   ]
  },
  {
   "cell_type": "code",
   "execution_count": null,
   "id": "94813606-a7ab-4c92-af10-c9e974c01bba",
   "metadata": {},
   "outputs": [],
   "source": []
  }
 ],
 "metadata": {
  "kernelspec": {
   "display_name": "Python 3 (ipykernel)",
   "language": "python",
   "name": "python3"
  },
  "language_info": {
   "codemirror_mode": {
    "name": "ipython",
    "version": 3
   },
   "file_extension": ".py",
   "mimetype": "text/x-python",
   "name": "python",
   "nbconvert_exporter": "python",
   "pygments_lexer": "ipython3",
   "version": "3.11.6"
  }
 },
 "nbformat": 4,
 "nbformat_minor": 5
}
