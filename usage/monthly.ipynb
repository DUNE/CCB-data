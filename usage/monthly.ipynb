{
 "cells": [
  {
   "cell_type": "code",
   "execution_count": 1,
   "id": "775424dd-1d41-4428-9683-0281a8824228",
   "metadata": {},
   "outputs": [],
   "source": [
    "# link = \"https://fifemon.fnal.gov/kibana/app/kibana#/visualize/edit/33d02c40-8b41-11ee-804b-5759672b811c?_g=(refreshInterval:(pause:!t,value:0),time:(from:'2022-01-01T06:00:00.000Z',mode:absolute,to:'2023-11-25T03:09:25.714Z'))&_a=(filters:!(),linked:!f,query:(language:lucene,query:'Jobsub_Group:dune'),uiState:(vis:(params:(sort:(columnIndex:!n,direction:!n)))),vis:(aggs:!((enabled:!t,id:'1',params:(field:SlotHours),schema:metric,type:sum),(enabled:!t,id:'3',params:(field:MachineAttrGLIDEIN_DUNESite0,missingBucket:!f,missingBucketLabel:Missing,order:desc,orderBy:'1',otherBucket:!f,otherBucketLabel:Other,size:50),schema:bucket,type:terms),(enabled:!t,id:'5',params:(customInterval:'2h',drop_partials:!f,extended_bounds:(),field:'@timestamp',interval:M,min_doc_count:1,timeRange:(from:'2022-01-01T06:00:00.000Z',mode:absolute,to:'2023-11-25T03:09:25.714Z'),useNormalizedEsInterval:!t),schema:bucket,type:date_histogram),(enabled:!t,id:'4',params:(filters:!((input:(query:'NOT(Owner:dunepro)%20AND%20NOT(Jobsub_SubGroup:mars)'),label:Analysis),(input:(query:'Owner:dunepro'),label:Production),(input:(query:'Jobsub_SubGroup:mars'),label:MARS),(input:(query:'*'),label:Total))),schema:bucket,type:filters)),params:(perPage:24,showMetricsAtAllLevels:!f,showPartialRows:!f,showTotal:!f,sort:(columnIndex:!n,direction:!n),totalFunc:sum),title:'DUNE%20monthly%20slot%20hours%20by%20site%20and%20role',type:table))\""
   ]
  },
  {
   "cell_type": "code",
   "execution_count": 2,
   "id": "50f0a4d3-aad5-4acd-a241-2373d60c9e1b",
   "metadata": {},
   "outputs": [],
   "source": [
    "# go to that link, go to inspect and save as formatted csv\n"
   ]
  },
  {
   "cell_type": "code",
   "execution_count": null,
   "id": "ccfd65c1-4b61-4ac3-b853-f2dea495cc1c",
   "metadata": {},
   "outputs": [],
   "source": []
  },
  {
   "cell_type": "code",
   "execution_count": 3,
   "id": "bf9afde7-7133-470d-8ccf-d01984e0caef",
   "metadata": {},
   "outputs": [],
   "source": [
    "import csv\n",
    "\n",
    "# ken\n",
    "#  \"https://fifemon.fnal.gov/kibana/app/kibana#/visualize/edit/33d02c40-8b41-11ee-804b-5759672b811c?_g=(refreshInterval:(pause:!t,value:0),time:(from:'2022-01-01T06:00:00.000Z',mode:absolute,to:'2023-11-25T03:09:25.714Z'))&_a=(filters:!(),linked:!f,query:(language:lucene,query:'Jobsub_Group:dune'),uiState:(vis:(params:(sort:(columnIndex:!n,direction:!n)))),vis:(aggs:!((enabled:!t,id:'1',params:(field:SlotHours),schema:metric,type:sum),(enabled:!t,id:'3',params:(field:MachineAttrGLIDEIN_DUNESite0,missingBucket:!f,missingBucketLabel:Missing,order:desc,orderBy:'1',otherBucket:!f,otherBucketLabel:Other,size:50),schema:bucket,type:terms),(enabled:!t,id:'5',params:(customInterval:'2h',drop_partials:!f,extended_bounds:(),field:'@timestamp',interval:M,min_doc_count:1,timeRange:(from:'2022-01-01T06:00:00.000Z',mode:absolute,to:'2023-11-25T03:09:25.714Z'),useNormalizedEsInterval:!t),schema:bucket,type:date_histogram),(enabled:!t,id:'4',params:(filters:!((input:(query:'NOT(Owner:dunepro)%20AND%20NOT(Jobsub_SubGroup:mars)'),label:Analysis),(input:(query:'Owner:dunepro'),label:Production),(input:(query:'Jobsub_SubGroup:mars'),label:MARS),(input:(query:'*'),label:Total))),schema:bucket,type:filters)),params:(perPage:24,showMetricsAtAllLevels:!f,showPartialRows:!f,showTotal:!f,sort:(columnIndex:!n,direction:!n),totalFunc:sum),title:'DUNE%20monthly%20slot%20hours%20by%20site%20and%20role',type:table))\"\n",
    "\n",
    "# wenlong https://fifemon.fnal.gov/kibana/app/kibana#/dashboard/83d7b0c0-8b1c-11ee-804b-5759672b811c?_g=(refreshInterval:(pause:!t,value:0),time:(from:now-1y,mode:quick,to:now))&_a=(description:%27%27,filters:!(),fullScreenMode:!f,options:(darkTheme:!t,hidePanelTitles:!f,useMargins:!t),panels:!((embeddableConfig:(),gridData:(h:14,i:%271%27,w:48,x:0,y:0),id:%2757162130-8b1b-11ee-804b-5759672b811c%27,panelIndex:%271%27,type:visualization,version:%276.8.23%27),(embeddableConfig:(),gridData:(h:16,i:%272%27,w:48,x:0,y:14),id:%275ee81fc0-8b1c-11ee-804b-5759672b811c%27,panelIndex:%272%27,type:visualization,version:%276.8.23%27)),query:(language:lucene,query:%27%27),timeRestore:!t,title:fifebatch-jobs-dune,viewMode:view)\n",
    "\n",
    "\n",
    "name = 'DUNE monthly slot hours by site and role-2.csv'\n",
    "inunits=\"Hr\"\n",
    "outunits = \"MHr\"\n",
    "units=1000000.\n",
    "Data = {}\n",
    "ByCountry = {}\n",
    "sites = []\n",
    "types = []\n",
    "dates = []\n",
    "countries = []"
   ]
  },
  {
   "cell_type": "code",
   "execution_count": 4,
   "id": "3caab8a9-a39b-4d85-9a30-74fa7ca7b31d",
   "metadata": {},
   "outputs": [
    {
     "name": "stdout",
     "output_type": "stream",
     "text": [
      "['US_FermiGrid', 'US_FNAL-FermiGrid', 'NL_SURFsara', 'UK_RAL-Tier1', 'CERN', 'UK_RAL-PPD', 'undefined', 'UK_Manchester', 'CZ_FZU', 'IN_TIFR', 'ES_PIC', 'UK_QMUL', 'NL_NIKHEF', 'UK_Bristol', 'FR_CCIN2P3', 'UK_Lancaster', 'US_BNL', 'UK_Imperial', 'RU_JINR', 'CA_Victoria', 'US_Colorado', 'BR_CBPF', 'UK_Brunel', 'UK_Oxford', 'US_UChicago', 'US_NERSC', 'UK_Edinburgh', 'US_SU-ITS', 'UK_Sheffield', 'UK_Liverpool', 'US_FNAL-T1', 'US_UCSD', 'ES_CIEMAT', 'US_WSU', 'US_Wisconsin', 'US_PuertoRico', 'US_UConn-HPC', 'US_NotreDame', 'CH_UNIBE-LHEP', 'IT_CNAF', 'CA_SFU', 'US_Michigan', 'US_Caltech', 'US_Nebraska', 'US_Omaha', 'US_Swan', 'US_MWT2']\n",
      "['US', 'NL', 'UK', 'CERN', 'undefined', 'CZ', 'IN', 'ES', 'FR', 'RU', 'CA', 'BR', 'CH', 'IT']\n",
      "['2022-01', '2022-02', '2022-03', '2022-04', '2022-05', '2022-06', '2022-07', '2022-08', '2022-09', '2022-10', '2022-11', '2022-12', '2023-01', '2023-02', '2023-03', '2023-04', '2023-05', '2023-06', '2023-07', '2023-08', '2023-09', '2023-10', '2023-11']\n"
     ]
    }
   ],
   "source": [
    "# read in csv and parse into array\n",
    "\n",
    "with open(name,'r') as csv_file:\n",
    "    csv_reader = csv.reader(csv_file, delimiter=',')\n",
    "    line_count = 0\n",
    "    \n",
    "    for row in csv_reader:\n",
    "        #print (row)\n",
    "        line_count += 1\n",
    "        if line_count == 1:\n",
    "            labels = row\n",
    "            continue\n",
    "        site = row[0] \n",
    "        country = site.split(\"_\")[0]\n",
    "        date = row[1][0:7] # truncate the day\n",
    "        type = row[2]\n",
    "        value = float(row[3].replace(\",\",\"\"))/units\n",
    "        \n",
    "\n",
    "        \n",
    "        if type not in Data.keys():\n",
    "            #print (\"add type\",type)\n",
    "            Data[type]={}\n",
    "            types.append(type)\n",
    "            \n",
    "        if site not in Data[type].keys():\n",
    "            #print (\"add site\",site)\n",
    "            Data[type][site]={}\n",
    "        \n",
    "        \n",
    "        if type not in types: types.append(type)\n",
    "        if site not in sites: sites.append(site)\n",
    "        if date not in dates: dates.append(date)\n",
    "        if country not in countries: countries.append(country)\n",
    "        \n",
    "        Data[type][site][date]=value\n",
    "         \n",
    "        \n",
    "        # print (Data)\n",
    "print (sites)\n",
    "print (countries)  \n",
    "print (dates)\n",
    "\n",
    "sites.sort()\n",
    " "
   ]
  },
  {
   "cell_type": "code",
   "execution_count": 5,
   "id": "9c83db69-a719-49b5-b88a-0410809dcb7d",
   "metadata": {},
   "outputs": [],
   "source": [
    "# fill in the blanks and sort by country\n",
    "\n",
    "for type in types:\n",
    "    for site in sites:\n",
    "        if site not in Data[type].keys():\n",
    "            Data[type][site]={}\n",
    "        for date in dates:\n",
    "            if date not in Data[type][site].keys():\n",
    "                Data[type][site][date] = 0.0\n",
    "        #print (type,site, Data[type][site])\n",
    "        "
   ]
  },
  {
   "cell_type": "code",
   "execution_count": 6,
   "id": "de08ccc3-0c2a-4f60-ad8a-00c15a6cc013",
   "metadata": {},
   "outputs": [],
   "source": [
    "lowdate = \"2022-11\"\n",
    "highdate = \"2023-10\""
   ]
  },
  {
   "cell_type": "code",
   "execution_count": 7,
   "id": "15bf429c-3e75-45d0-966d-837572c71e7b",
   "metadata": {},
   "outputs": [
    {
     "name": "stdout",
     "output_type": "stream",
     "text": [
      "Usage in MHr between 2022-11 and 2023-10\n",
      "                          Site Production   Analysis     NoMARS       MARS      Total\n",
      "                       BR_CBPF      0.307      0.131      0.438      0.000      0.438\n",
      "                        CA_SFU      0.003      0.011      0.014      0.000      0.014\n",
      "                   CA_Victoria      0.151      0.336      0.486      0.000      0.486\n",
      "                          CERN      1.723      1.670      3.393      0.000      3.393\n",
      "                 CH_UNIBE-LHEP      0.024      0.004      0.028      0.000      0.028\n",
      "                        CZ_FZU      0.723      0.669      1.392      0.000      1.392\n",
      "                     ES_CIEMAT      0.026      0.049      0.075      0.000      0.075\n",
      "                        ES_PIC      0.560      0.658      1.218      0.000      1.218\n",
      "                    FR_CCIN2P3      0.392      0.476      0.867      0.000      0.867\n",
      "                       IN_TIFR      0.514      0.774      1.288      0.000      1.288\n",
      "                       IT_CNAF      0.000      0.027      0.027      0.000      0.027\n",
      "                     NL_NIKHEF      0.617      0.465      1.083      0.000      1.083\n",
      "                   NL_SURFsara      1.797      1.633      3.430      0.000      3.430\n",
      "                       RU_JINR      0.124      0.427      0.551      0.000      0.551\n",
      "                    UK_Bristol      0.501      0.514      1.015      0.000      1.015\n",
      "                     UK_Brunel      0.236      0.188      0.424      0.000      0.424\n",
      "                  UK_Edinburgh      0.184      0.084      0.268      0.000      0.268\n",
      "                   UK_Imperial      0.363      0.344      0.707      0.000      0.707\n",
      "                  UK_Lancaster      0.525      0.268      0.793      0.000      0.793\n",
      "                  UK_Liverpool      0.109      0.084      0.192      0.000      0.192\n",
      "                 UK_Manchester      0.550      1.337      1.887      0.000      1.887\n",
      "                     UK_Oxford      0.242      0.177      0.419      0.000      0.419\n",
      "                       UK_QMUL      0.638      0.491      1.129      0.000      1.129\n",
      "                    UK_RAL-PPD      1.142      1.359      2.502      0.000      2.502\n",
      "                  UK_RAL-Tier1      1.810      1.591      3.402      0.000      3.402\n",
      "                  UK_Sheffield      0.149      0.093      0.242      0.000      0.242\n",
      "                        US_BNL      0.500      0.251      0.751      0.000      0.751\n",
      "                    US_Caltech      0.000      0.007      0.007      0.000      0.007\n",
      "                   US_Colorado      0.172      0.273      0.445      0.000      0.445\n",
      "             US_FNAL-FermiGrid      1.057     17.076     18.133      0.390     18.522\n",
      "                    US_FNAL-T1      0.060      0.110      0.170      0.000      0.170\n",
      "                  US_FermiGrid      3.102     23.588     26.690     15.059     41.749\n",
      "                       US_MWT2      0.000      0.001      0.001      0.000      0.001\n",
      "                   US_Michigan      0.000      0.009      0.009      0.000      0.009\n",
      "                      US_NERSC      0.269      0.000      0.269      0.000      0.269\n",
      "                   US_Nebraska      0.000      0.003      0.003      0.000      0.003\n",
      "                  US_NotreDame      0.016      0.028      0.044      0.000      0.044\n",
      "                      US_Omaha      0.000      0.002      0.002      0.000      0.002\n",
      "                 US_PuertoRico      0.017      0.034      0.051      0.000      0.051\n",
      "                     US_SU-ITS      0.000      0.246      0.246      0.000      0.246\n",
      "                       US_Swan      0.000      0.001      0.001      0.000      0.001\n",
      "                       US_UCSD      0.040      0.054      0.094      0.000      0.094\n",
      "                   US_UChicago      0.190      0.084      0.274      0.000      0.274\n",
      "                  US_UConn-HPC      0.028      0.020      0.048      0.000      0.048\n",
      "                        US_WSU      0.029      0.038      0.067      0.000      0.067\n",
      "                  US_Wisconsin      0.018      0.047      0.065      0.000      0.065\n",
      "                     undefined      1.806      0.348      2.154      0.000      2.154\n",
      "                         Total     20.716     56.078     76.794     15.449     92.243\n"
     ]
    }
   ],
   "source": [
    "print (\"Usage in %s between %s and %s\"%(outunits,lowdate,highdate))\n",
    "print (\"%30s %10s %10s %10s %10s %10s\"%(\"Site\",\"Production\",\"Analysis\",\"NoMARS\",\"MARS\",\"Total\"))\n",
    "\n",
    "totalacrosssite={}\n",
    "for type in types:\n",
    "    totalacrosssite[type] = 0.0\n",
    "for site in sites:\n",
    "    use = {}\n",
    "    for type in types:\n",
    "        use[type] = 0.0        \n",
    "        for date in dates:\n",
    "            use[type] += Data[type][site][date]\n",
    "        totalacrosssite[type] += use[type]\n",
    "    use[\"NoMARS\"] = use[\"Total\"] - use[\"MARS\"]  \n",
    "    print (\"%30s %10.3f %10.3f %10.3f %10.3f %10.3f\"%(site,use[\"Production\"],use[\"Analysis\"],use[\"NoMARS\"],use[\"MARS\"],use[\"Total\"])) \n",
    "\n",
    "totalacrosssite[\"NoMARS\"] = totalacrosssite[\"Total\"] - totalacrosssite[\"MARS\"]\n",
    "print (\"%30s %10.3f %10.3f %10.3f %10.3f %10.3f\"%(\"Total\",totalacrosssite[\"Production\"],totalacrosssite[\"Analysis\"],totalacrosssite[\"NoMARS\"],totalacrosssite[\"MARS\"],totalacrosssite[\"Total\"]))      "
   ]
  },
  {
   "cell_type": "code",
   "execution_count": null,
   "id": "b285d897-0a9c-4c98-837f-0e4b1d292783",
   "metadata": {},
   "outputs": [],
   "source": []
  },
  {
   "cell_type": "code",
   "execution_count": 8,
   "id": "3cf93ed7-ea65-4626-8c7f-c452c3315f7c",
   "metadata": {},
   "outputs": [],
   "source": [
    "# do by country\n",
    "for type in types:\n",
    "    ByCountry[type]={}\n",
    "    for country in countries:\n",
    "        ByCountry[type][country]={}\n",
    "        for date in dates:\n",
    "            ByCountry[type][country][date] = 0.0\n",
    "    for site in sites:\n",
    "        country = site.split(\"_\")[0]\n",
    "        for date in dates:\n",
    "            ByCountry[type][country][date]+=Data[type][site][date]"
   ]
  },
  {
   "cell_type": "code",
   "execution_count": 9,
   "id": "50b90237-5978-4127-9009-e79f6472fa6a",
   "metadata": {},
   "outputs": [
    {
     "name": "stdout",
     "output_type": "stream",
     "text": [
      "                              Usage in MHr between 2022-11 and 2023-10\n",
      "                       Country Production   Analysis     NoMARS       MARS      Total\n",
      "                            US      5.499     41.872     47.372     15.449     62.821\n",
      "                            NL      2.414      2.098      4.513      0.000      4.513\n",
      "                            UK      6.449      6.530     12.979      0.000     12.979\n",
      "                          CERN      1.723      1.670      3.393      0.000      3.393\n",
      "                     undefined      1.806      0.348      2.154      0.000      2.154\n",
      "                            CZ      0.723      0.669      1.392      0.000      1.392\n",
      "                            IN      0.514      0.774      1.288      0.000      1.288\n",
      "                            ES      0.586      0.706      1.292      0.000      1.292\n",
      "                            FR      0.392      0.476      0.867      0.000      0.867\n",
      "                            RU      0.124      0.427      0.551      0.000      0.551\n",
      "                            CA      0.154      0.346      0.500      0.000      0.500\n",
      "                            BR      0.307      0.131      0.438      0.000      0.438\n",
      "                            CH      0.024      0.004      0.028      0.000      0.028\n",
      "                            IT      0.000      0.027      0.027      0.000      0.027\n",
      "                         Total     20.716     56.078     76.794     15.449     92.243\n"
     ]
    }
   ],
   "source": [
    "print (\"                              Usage in %s between %s and %s\"%(outunits,lowdate,highdate))\n",
    "print (\"%30s %10s %10s %10s %10s %10s\"%(\"Country\",\"Production\",\"Analysis\",\"NoMARS\",\"MARS\",\"Total\"))\n",
    "\n",
    "totalacrosssites={}\n",
    "for type in types:\n",
    "    totalacrosssite[type] = 0.0\n",
    "for site in countries:\n",
    "    use = {}\n",
    "    for type in types:\n",
    "        use[type] = 0.0        \n",
    "        for date in dates:\n",
    "            use[type] += ByCountry[type][site][date]\n",
    "        totalacrosssite[type] += use[type]\n",
    "    use[\"NoMARS\"] = use[\"Total\"] - use[\"MARS\"]  \n",
    "    print (\"%30s %10.3f %10.3f %10.3f %10.3f %10.3f\"%(site,use[\"Production\"],use[\"Analysis\"],use[\"NoMARS\"],use[\"MARS\"],use[\"Total\"])) \n",
    "\n",
    "totalacrosssite[\"NoMARS\"] = totalacrosssite[\"Total\"] - totalacrosssite[\"MARS\"]\n",
    "print (\"%30s %10.3f %10.3f %10.3f %10.3f %10.3f\"%(\"Total\",totalacrosssite[\"Production\"],totalacrosssite[\"Analysis\"],totalacrosssite[\"NoMARS\"],totalacrosssite[\"MARS\"],totalacrosssite[\"Total\"]))      "
   ]
  },
  {
   "cell_type": "code",
   "execution_count": null,
   "id": "fd10cd2e-d85f-4994-9cd8-05fbe1ced958",
   "metadata": {},
   "outputs": [],
   "source": []
  }
 ],
 "metadata": {
  "kernelspec": {
   "display_name": "Python 3 (ipykernel)",
   "language": "python",
   "name": "python3"
  },
  "language_info": {
   "codemirror_mode": {
    "name": "ipython",
    "version": 3
   },
   "file_extension": ".py",
   "mimetype": "text/x-python",
   "name": "python",
   "nbconvert_exporter": "python",
   "pygments_lexer": "ipython3",
   "version": "3.9.6"
  }
 },
 "nbformat": 4,
 "nbformat_minor": 5
}
