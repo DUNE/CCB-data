{
 "cells": [
  {
   "cell_type": "code",
   "execution_count": 1,
   "id": "775424dd-1d41-4428-9683-0281a8824228",
   "metadata": {},
   "outputs": [],
   "source": [
    "# link = \"https://fifemon.fnal.gov/kibana/app/kibana#/visualize/edit/33d02c40-8b41-11ee-804b-5759672b811c?_g=(refreshInterval:(pause:!t,value:0),time:(from:'2022-01-01T06:00:00.000Z',mode:absolute,to:'2023-11-25T03:09:25.714Z'))&_a=(filters:!(),linked:!f,query:(language:lucene,query:'Jobsub_Group:dune'),uiState:(vis:(params:(sort:(columnIndex:!n,direction:!n)))),vis:(aggs:!((enabled:!t,id:'1',params:(field:SlotHours),schema:metric,type:sum),(enabled:!t,id:'3',params:(field:MachineAttrGLIDEIN_DUNESite0,missingBucket:!f,missingBucketLabel:Missing,order:desc,orderBy:'1',otherBucket:!f,otherBucketLabel:Other,size:50),schema:bucket,type:terms),(enabled:!t,id:'5',params:(customInterval:'2h',drop_partials:!f,extended_bounds:(),field:'@timestamp',interval:M,min_doc_count:1,timeRange:(from:'2022-01-01T06:00:00.000Z',mode:absolute,to:'2023-11-25T03:09:25.714Z'),useNormalizedEsInterval:!t),schema:bucket,type:date_histogram),(enabled:!t,id:'4',params:(filters:!((input:(query:'NOT(Owner:dunepro)%20AND%20NOT(Jobsub_SubGroup:mars)'),label:Analysis),(input:(query:'Owner:dunepro'),label:Production),(input:(query:'Jobsub_SubGroup:mars'),label:MARS),(input:(query:'*'),label:Total))),schema:bucket,type:filters)),params:(perPage:24,showMetricsAtAllLevels:!f,showPartialRows:!f,showTotal:!f,sort:(columnIndex:!n,direction:!n),totalFunc:sum),title:'DUNE%20monthly%20slot%20hours%20by%20site%20and%20role',type:table))\""
   ]
  },
  {
   "cell_type": "code",
   "execution_count": 2,
   "id": "50f0a4d3-aad5-4acd-a241-2373d60c9e1b",
   "metadata": {},
   "outputs": [],
   "source": [
    "# go to that link, go to inspect and save as formatted csv\n"
   ]
  },
  {
   "cell_type": "code",
   "execution_count": 3,
   "id": "3c74edfc-7c72-46b8-b2f6-06084cea0b2d",
   "metadata": {},
   "outputs": [],
   "source": [
    "# define  bydate(array=None,types=None,locations=None,dates=None,units=None,tag=None):"
   ]
  },
  {
   "cell_type": "code",
   "execution_count": 4,
   "id": "ccfd65c1-4b61-4ac3-b853-f2dea495cc1c",
   "metadata": {
    "tags": []
   },
   "outputs": [],
   "source": [
    " def bydate(array=None,types=None,locations=None,dates=None,units=None,format=\"10.3f\",tag=None):\n",
    "    # metdefhod that makes a table from an array indexed by type, location and date by location and date.\n",
    "    # tag is a tag that tells what the array was\n",
    "    # adds a sum across both row and column\n",
    "    # output is a csv file of the table\n",
    "    lowdate = dates[0]\n",
    "    highdate = dates[-1]\n",
    "    print (lowdate,highdate)\n",
    "    header = \"   time in %s by %s     \"%(units,tag)\n",
    "    header2 = header\n",
    "\n",
    "    for date in dates:\n",
    "        header += \"%10s\"%date\n",
    "        header2 += \",%s\"%date\n",
    "    header += \"     Total\"\n",
    "    header2 += \",Total\\n\"\n",
    "    form = \", %%%s\"%format\n",
    "    out = {}\n",
    "    for type in types:\n",
    "        outname = \"output/%s_%s_%s_%s_%s.csv\"%(type,tag,units,lowdate,highdate)\n",
    "        out[type] = open(outname,'w')\n",
    "        out[type].write(header2)\n",
    "\n",
    "    print (locations) \n",
    "\n",
    "    for type in types:  \n",
    "        totalbydate = {}\n",
    "        for date in dates:\n",
    "            totalbydate[date] = 0.0\n",
    "        totaltotal = 0.0\n",
    "        for site in locations:\n",
    "            result = \"%30s\"%site\n",
    "            outstring = \"%s\"%site\n",
    "            total = 0.0\n",
    "            \n",
    "            #print (form)\n",
    "            for date in dates:\n",
    "                result += \" %10.3f\"%(array[type][site][date])\n",
    "                outstring += form%(array[type][site][date])\n",
    "                total += (array[type][site][date])\n",
    "                totalbydate[date]+= (array[type][site][date])\n",
    "            totaltotal+=total           \n",
    "            outstring += form%total\n",
    "            outstring += \"\\n\"\n",
    "            #print (outstring)\n",
    "            out[type].write(outstring)\n",
    "        outstring = \"%s\"%\"Total\"\n",
    "        for date in dates:\n",
    "            outstring += form%(totalbydate[date])\n",
    "        outstring += form%totaltotal \n",
    "        outstring += \"\\n\"\n",
    "        out[type].write(outstring)\n",
    "        out[type].close()"
   ]
  },
  {
   "cell_type": "code",
   "execution_count": 5,
   "id": "0af9d613-45b3-4b22-95de-296acb851c34",
   "metadata": {
    "tags": []
   },
   "outputs": [],
   "source": [
    "import csv\n",
    "\n",
    "# ken\n",
    "#  \"https://fifemon.fnal.gov/kibana/app/kibana#/visualize/edit/33d02c40-8b41-11ee-804b-5759672b811c?_g=(refreshInterval:(pause:!t,value:0),time:(from:'2022-01-01T06:00:00.000Z',mode:absolute,to:'2023-11-25T03:09:25.714Z'))&_a=(filters:!(),linked:!f,query:(language:lucene,query:'Jobsub_Group:dune'),uiState:(vis:(params:(sort:(columnIndex:!n,direction:!n)))),vis:(aggs:!((enabled:!t,id:'1',params:(field:SlotHours),schema:metric,type:sum),(enabled:!t,id:'3',params:(field:MachineAttrGLIDEIN_DUNESite0,missingBucket:!f,missingBucketLabel:Missing,order:desc,orderBy:'1',otherBucket:!f,otherBucketLabel:Other,size:50),schema:bucket,type:terms),(enabled:!t,id:'5',params:(customInterval:'2h',drop_partials:!f,extended_bounds:(),field:'@timestamp',interval:M,min_doc_count:1,timeRange:(from:'2022-01-01T06:00:00.000Z',mode:absolute,to:'2023-11-25T03:09:25.714Z'),useNormalizedEsInterval:!t),schema:bucket,type:date_histogram),(enabled:!t,id:'4',params:(filters:!((input:(query:'NOT(Owner:dunepro)%20AND%20NOT(Jobsub_SubGroup:mars)'),label:Analysis),(input:(query:'Owner:dunepro'),label:Production),(input:(query:'Jobsub_SubGroup:mars'),label:MARS),(input:(query:'*'),label:Total))),schema:bucket,type:filters)),params:(perPage:24,showMetricsAtAllLevels:!f,showPartialRows:!f,showTotal:!f,sort:(columnIndex:!n,direction:!n),totalFunc:sum),title:'DUNE%20monthly%20slot%20hours%20by%20site%20and%20role',type:table))\"\n",
    "\n",
    "# wenlong https://fifemon.fnal.gov/kibana/app/kibana#/dashboard/83d7b0c0-8b1c-11ee-804b-5759672b811c?_g=(refreshInterval:(pause:!t,value:0),time:(from:now-1y,mode:quick,to:now))&_a=(description:%27%27,filters:!(),fullScreenMode:!f,options:(darkTheme:!t,hidePanelTitles:!f,useMargins:!t),panels:!((embeddableConfig:(),gridData:(h:14,i:%271%27,w:48,x:0,y:0),id:%2757162130-8b1b-11ee-804b-5759672b811c%27,panelIndex:%271%27,type:visualization,version:%276.8.23%27),(embeddableConfig:(),gridData:(h:16,i:%272%27,w:48,x:0,y:14),id:%275ee81fc0-8b1c-11ee-804b-5759672b811c%27,panelIndex:%272%27,type:visualization,version:%276.8.23%27)),query:(language:lucene,query:%27%27),timeRestore:!t,title:fifebatch-jobs-dune,viewMode:view)\n",
    "\n",
    "# choose your units\n",
    "\n",
    "name = 'DUNE monthly slot hours by site and role-2.csv'\n",
    "inunits=\"Hr\"\n",
    "HoursPerYear=(24*365)\n",
    "HoursPerMonth=HoursPerYear/12.\n",
    "CPUHrPerkHS23=1000/11.\n",
    "Units = {\"MHr\":1000000.,\"CoreYears\":HoursPerYear,\"kHS23-Hrs\":CPUHrPerkHS23}\n",
    "Formats = {\"Mhr\":\"10.3f\", \"CoreYears\":\"10.1f\", \"kHS23-Hrs\":\"10d\"}\n",
    "outunits = \"kHS23-Hrs\"\n",
    "\n",
    "# make choices here\n",
    "lowdate = \"2022-12\"\n",
    "highdate = \"2023-11\" \n",
    "units=Units[outunits]\n",
    "format=Formats[outunits]"
   ]
  },
  {
   "cell_type": "code",
   "execution_count": 6,
   "id": "59e7aaf0-69b4-469e-a283-ea72f093e46a",
   "metadata": {},
   "outputs": [],
   "source": [
    "Data = {}\n",
    "ByCountry = {}\n",
    "sites = []\n",
    "types = []\n",
    "dates = []\n",
    "countries = []"
   ]
  },
  {
   "cell_type": "code",
   "execution_count": 7,
   "id": "3caab8a9-a39b-4d85-9a30-74fa7ca7b31d",
   "metadata": {},
   "outputs": [
    {
     "name": "stdout",
     "output_type": "stream",
     "text": [
      "['US_FermiGrid', 'US_FNAL-FermiGrid', 'NL_SURFsara', 'UK_RAL-Tier1', 'CERN', 'UK_RAL-PPD', 'undefined', 'UK_Manchester', 'CZ_FZU', 'IN_TIFR', 'ES_PIC', 'UK_QMUL', 'NL_NIKHEF', 'UK_Bristol', 'FR_CCIN2P3', 'UK_Lancaster', 'US_BNL', 'UK_Imperial', 'RU_JINR', 'CA_Victoria', 'US_Colorado', 'BR_CBPF', 'UK_Brunel', 'UK_Oxford', 'US_UChicago', 'US_NERSC', 'UK_Edinburgh', 'US_SU-ITS', 'UK_Sheffield', 'UK_Liverpool', 'US_FNAL-T1', 'US_UCSD', 'ES_CIEMAT', 'US_WSU', 'US_Wisconsin', 'US_PuertoRico', 'US_UConn-HPC', 'US_NotreDame', 'CH_UNIBE-LHEP', 'IT_CNAF', 'CA_SFU', 'US_Michigan', 'US_Caltech', 'US_Nebraska', 'US_Omaha', 'US_Swan', 'US_MWT2']\n",
      "['US', 'NL', 'UK', 'CERN', 'undefined', 'CZ', 'IN', 'ES', 'FR', 'RU', 'CA', 'BR', 'CH', 'IT']\n",
      "['2022-01', '2022-02', '2022-03', '2022-04', '2022-05', '2022-06', '2022-07', '2022-08', '2022-09', '2022-10', '2022-11', '2022-12', '2023-01', '2023-02', '2023-03', '2023-04', '2023-05', '2023-06', '2023-07', '2023-08', '2023-09', '2023-10', '2023-11']\n"
     ]
    }
   ],
   "source": [
    "# read in csv and parse into array\n",
    "\n",
    "with open(name,'r') as csv_file:\n",
    "    csv_reader = csv.reader(csv_file, delimiter=',')\n",
    "    line_count = 0\n",
    "    \n",
    "    for row in csv_reader:\n",
    "        #print (row)\n",
    "        line_count += 1\n",
    "        if line_count == 1:\n",
    "            labels = row\n",
    "            continue\n",
    "        site = row[0] \n",
    "        country = site.split(\"_\")[0]\n",
    "        date = row[1][0:7] # truncate the day\n",
    "        type = row[2]\n",
    "        value = float(row[3].replace(\",\",\"\"))/units\n",
    "        \n",
    "\n",
    "        \n",
    "        if type not in Data.keys():\n",
    "            #print (\"add type\",type)\n",
    "            Data[type]={}\n",
    "            types.append(type)\n",
    "            \n",
    "        if site not in Data[type].keys():\n",
    "            #print (\"add site\",site)\n",
    "            Data[type][site]={}\n",
    "        \n",
    "        \n",
    "        if type not in types: types.append(type)\n",
    "        if site not in sites: sites.append(site)\n",
    "        if date not in dates: dates.append(date)\n",
    "        if country not in countries: countries.append(country)\n",
    "        \n",
    "        Data[type][site][date]=value\n",
    "         \n",
    "        \n",
    "        # print (Data)\n",
    "print (sites)\n",
    "print (countries)  \n",
    "print (dates)\n",
    "\n",
    "sites.sort()\n",
    "countries.sort()\n",
    " "
   ]
  },
  {
   "cell_type": "code",
   "execution_count": 8,
   "id": "9c83db69-a719-49b5-b88a-0410809dcb7d",
   "metadata": {},
   "outputs": [],
   "source": [
    "# fill in the blanks \n",
    "\n",
    "for type in types:\n",
    "    for site in sites:\n",
    "        if site not in Data[type].keys():\n",
    "            Data[type][site]={}\n",
    "        for date in dates:\n",
    "            if date not in Data[type][site].keys():\n",
    "                Data[type][site][date] = 0.0\n",
    "        #print (type,site, Data[type][site])\n",
    "        \n",
    "# make a NoMARS class\n",
    "\n",
    "types.append(\"NoMARS\")\n",
    "Data[\"NoMARS\"] = {}\n",
    "for site in sites:\n",
    "    Data[\"NoMARS\"][site] = {}\n",
    "    for date in dates:\n",
    "        Data[\"NoMARS\"][site][date] = Data[\"Total\"][site][date]-Data[\"MARS\"][site][date]\n",
    "        "
   ]
  },
  {
   "cell_type": "code",
   "execution_count": 9,
   "id": "de08ccc3-0c2a-4f60-ad8a-00c15a6cc013",
   "metadata": {},
   "outputs": [
    {
     "name": "stdout",
     "output_type": "stream",
     "text": [
      "['2022-12', '2023-01', '2023-02', '2023-03', '2023-04', '2023-05', '2023-06', '2023-07', '2023-08', '2023-09', '2023-10', '2023-11']\n"
     ]
    }
   ],
   "source": [
    "\n",
    "\n",
    "# trim the date slist\n",
    "newdates = []\n",
    "for date in dates:\n",
    "    if date < lowdate or date > highdate:\n",
    "                continue\n",
    "    newdates.append(date)\n",
    "dates = newdates\n",
    "print (dates)\n"
   ]
  },
  {
   "cell_type": "code",
   "execution_count": 10,
   "id": "15bf429c-3e75-45d0-966d-837572c71e7b",
   "metadata": {},
   "outputs": [
    {
     "name": "stdout",
     "output_type": "stream",
     "text": [
      "                                     Usage in kHS23-Hrs between 2022-12 and 2023-11\n",
      "                          Site Production   Analysis     NoMARS       MARS      Total\n",
      "                       BR_CBPF       2587        937       3525          0       3525\n",
      "                        CA_SFU         34         74        109          0        109\n",
      "                   CA_Victoria        729       1393       2123          0       2123\n",
      "                          CERN       5476       7482      12958          0      12958\n",
      "                 CH_UNIBE-LHEP        268         22        290          0        290\n",
      "                        CZ_FZU       4988       3923       8911          0       8911\n",
      "                     ES_CIEMAT          1        203        204          0        204\n",
      "                        ES_PIC       1933       2117       4051          0       4051\n",
      "                    FR_CCIN2P3       3254       2338       5593          0       5593\n",
      "                       IN_TIFR        532       3422       3954          0       3954\n",
      "                       IT_CNAF          0        292        292          0        292\n",
      "                     NL_NIKHEF       4300       2333       6633          0       6633\n",
      "                   NL_SURFsara       8256       7086      15343          0      15343\n",
      "                       RU_JINR        465       2245       2711          0       2711\n",
      "                    UK_Bristol        888       3152       4040          0       4040\n",
      "                     UK_Brunel       1385       1540       2926          0       2926\n",
      "                  UK_Edinburgh       1708        535       2244          0       2244\n",
      "                   UK_Imperial       2109       1204       3313          0       3313\n",
      "                  UK_Lancaster       1899        843       2742          0       2742\n",
      "                  UK_Liverpool        881        452       1334          0       1334\n",
      "                 UK_Manchester       3421       7480      10901          0      10901\n",
      "                     UK_Oxford        742        975       1718          0       1718\n",
      "                       UK_QMUL       3991       1522       5514          0       5514\n",
      "                    UK_RAL-PPD       5934       8953      14888          0      14888\n",
      "                  UK_RAL-Tier1       7078       8424      15503          0      15503\n",
      "                  UK_Sheffield       1111        781       1893          0       1893\n",
      "                        US_BNL       1983        898       2881          0       2881\n",
      "                    US_Caltech          0         79         80          0         80\n",
      "                   US_Colorado       1124       2290       3414          0       3414\n",
      "             US_FNAL-FermiGrid      11621     187835     199457       4288     203746\n",
      "                    US_FNAL-T1        664       1208       1872          0       1872\n",
      "                  US_FermiGrid       4636      47354      51991       6663      58654\n",
      "                       US_MWT2          0          0          0          0          0\n",
      "                   US_Michigan          1         22         23          0         23\n",
      "                      US_NERSC       2950          0       2950          0       2950\n",
      "                   US_Nebraska          0         31         32          0         32\n",
      "                  US_NotreDame         82        182        265          0        265\n",
      "                      US_Omaha          0         17         18          0         18\n",
      "                 US_PuertoRico         51        167        218          0        218\n",
      "                     US_SU-ITS          3       1449       1452          0       1452\n",
      "                       US_Swan          0         11         11          0         11\n",
      "                       US_UCSD        134        277        412          0        412\n",
      "                   US_UChicago       2092        795       2888          0       2888\n",
      "                  US_UConn-HPC        308        224        532          0        532\n",
      "                        US_WSU          0        286        286          0        286\n",
      "                  US_Wisconsin         50        376        427          0        427\n",
      "                     undefined        137       1060       1197          0       1197\n",
      "                         Total      89829     314314     404144      10951     415096\n"
     ]
    }
   ],
   "source": [
    "print (\"                                     Usage in %s between %s and %s\"%(outunits,lowdate,highdate))\n",
    "print (\"%30s %10s %10s %10s %10s %10s\"%(\"Site\",\"Production\",\"Analysis\",\"NoMARS\",\"MARS\",\"Total\"))\n",
    "\n",
    "\n",
    "totalacrosssite={}\n",
    "for type in types:\n",
    "    totalacrosssite[type] = 0.0\n",
    "for site in sites:\n",
    "    use = {}\n",
    "    for type in types:\n",
    "        use[type] = 0.0        \n",
    "        for date in dates:\n",
    "            use[type] += Data[type][site][date]\n",
    "        if outunits == \"Cores\": \n",
    "            print (\"fix core \")\n",
    "            use[type]/=12. \n",
    "        totalacrosssite[type] += use[type]\n",
    "    \n",
    "    if \"10.3\" in format: \n",
    "        print (\"%30s %10.3f %10.3f %10.3f %10.3f %10.3f\"%(site,use[\"Production\"],use[\"Analysis\"],use[\"NoMARS\"],use[\"MARS\"],use[\"Total\"])) \n",
    "    else:\n",
    "        print (\"%30s %10d %10d %10d %10d %10d\"%(site,use[\"Production\"],use[\"Analysis\"],use[\"NoMARS\"],use[\"MARS\"],use[\"Total\"])) \n",
    "\n",
    "        \n",
    "#totalacrosssite[\"NoMARS\"] = totalacrosssite[\"Total\"] - totalacrosssite[\"MARS\"]\n",
    "if \"10.3\" in format:\n",
    "    print (\"%30s %10.3f %10.3f %10.3f %10.3f %10.3f\"%(\"Total\",totalacrosssite[\"Production\"],totalacrosssite[\"Analysis\"],totalacrosssite[\"NoMARS\"],totalacrosssite[\"MARS\"],totalacrosssite[\"Total\"]))  \n",
    "else:\n",
    "    print (\"%30s %10d %10d %10d %10d %10d\"%(\"Total\",totalacrosssite[\"Production\"],totalacrosssite[\"Analysis\"],totalacrosssite[\"NoMARS\"],totalacrosssite[\"MARS\"],totalacrosssite[\"Total\"]))      "
   ]
  },
  {
   "cell_type": "code",
   "execution_count": null,
   "id": "b285d897-0a9c-4c98-837f-0e4b1d292783",
   "metadata": {},
   "outputs": [],
   "source": []
  },
  {
   "cell_type": "code",
   "execution_count": 11,
   "id": "3cf93ed7-ea65-4626-8c7f-c452c3315f7c",
   "metadata": {},
   "outputs": [],
   "source": [
    "# do by country\n",
    "for type in types:\n",
    "    ByCountry[type]={}\n",
    "    for country in countries:\n",
    "        ByCountry[type][country]={}\n",
    "        for date in dates:\n",
    "            ByCountry[type][country][date] = 0.0\n",
    "    for site in sites:\n",
    "        country = site.split(\"_\")[0]\n",
    "        for date in dates:\n",
    "            ByCountry[type][country][date]+=Data[type][site][date]"
   ]
  },
  {
   "cell_type": "code",
   "execution_count": 12,
   "id": "50b90237-5978-4127-9009-e79f6472fa6a",
   "metadata": {},
   "outputs": [
    {
     "name": "stdout",
     "output_type": "stream",
     "text": [
      "                              Usage in kHS23-Hrs between 2022-12 and 2023-11\n",
      "                       Country Production   Analysis     NoMARS       MARS      Total\n",
      "                            BR       2587        937       3525          0       3525\n",
      "                            CA        763       1468       2232          0       2232\n",
      "                          CERN       5476       7482      12958          0      12958\n",
      "                            CH        268         22        290          0        290\n",
      "                            CZ       4988       3923       8911          0       8911\n",
      "                            ES       1935       2320       4256          0       4256\n",
      "                            FR       3254       2338       5593          0       5593\n",
      "                            IN        532       3422       3954          0       3954\n",
      "                            IT          0        292        292          0        292\n",
      "                            NL      12557       9420      21977          0      21977\n",
      "                            RU        465       2245       2711          0       2711\n",
      "                            UK      31152      35868      67021          0      67021\n",
      "                            US      25708     243511     269220      10951     280172\n",
      "                     undefined        137       1060       1197          0       1197\n",
      "                         Total      89829     314314     404144      10951     415096\n"
     ]
    }
   ],
   "source": [
    "print (\"                              Usage in %s between %s and %s\"%(outunits,lowdate,highdate))\n",
    "print (\"%30s %10s %10s %10s %10s %10s\"%(\"Country\",\"Production\",\"Analysis\",\"NoMARS\",\"MARS\",\"Total\"))\n",
    "\n",
    "\n",
    "totalacrosssites={}\n",
    "for type in types:\n",
    "    totalacrosssite[type] = 0.0\n",
    "for site in countries:\n",
    "    use = {}\n",
    "    for type in types:\n",
    "        use[type] = 0.0        \n",
    "        for date in dates:\n",
    "            use[type] += ByCountry[type][site][date]\n",
    "        totalacrosssite[type] += use[type]\n",
    "    #use[\"NoMARS\"] = use[\"Total\"] - use[\"MARS\"]  \n",
    "    if \"10.3\" in format:\n",
    "        print (\"%30s %10.3f %10.3f %10.3f %10.3f %10.3f\"%(site,use[\"Production\"],use[\"Analysis\"],use[\"NoMARS\"],use[\"MARS\"],use[\"Total\"])) \n",
    "    else:\n",
    "        print (\"%30s %10d %10d %10d %10d %10d\"%(site,use[\"Production\"],use[\"Analysis\"],use[\"NoMARS\"],use[\"MARS\"],use[\"Total\"])) \n",
    "\n",
    "totalacrosssite[\"NoMARS\"] = totalacrosssite[\"Total\"] - totalacrosssite[\"MARS\"]\n",
    "if \"10.3\" in format:\n",
    "    print (\"%30s %10.3f %10.3f %10.3f %10.3f %10.3f\"%(\"Total\",totalacrosssite[\"Production\"],totalacrosssite[\"Analysis\"],totalacrosssite[\"NoMARS\"],totalacrosssite[\"MARS\"],totalacrosssite[\"Total\"]))  \n",
    "else:\n",
    "    print (\"%30s %10d %10d %10d %10d %10d\"%(\"Total\",totalacrosssite[\"Production\"],totalacrosssite[\"Analysis\"],totalacrosssite[\"NoMARS\"],totalacrosssite[\"MARS\"],totalacrosssite[\"Total\"]))      "
   ]
  },
  {
   "cell_type": "code",
   "execution_count": 13,
   "id": "fd10cd2e-d85f-4994-9cd8-05fbe1ced958",
   "metadata": {},
   "outputs": [],
   "source": [
    "# Make a table for each type:"
   ]
  },
  {
   "cell_type": "code",
   "execution_count": 14,
   "id": "4054459f-973d-4bae-923f-6c8296d208a5",
   "metadata": {},
   "outputs": [],
   "source": [
    "# header = \"   time in %s by site        \"%outunits\n",
    "# header2 = header\n",
    "\n",
    "# for date in dates:\n",
    "#     header += \"%10s\"%date\n",
    "#     header2 += \",%s\"%date\n",
    "# header += \"     Total\"\n",
    "# header2 += \",Total\\n\"\n",
    "\n",
    "# out = {}\n",
    "# for type in types:\n",
    "#     outname = \"output/%s_BySite_%s_%s_%s.csv\"%(type,outunits,lowdate,highdate)\n",
    "#     out[type] = open(outname,'w')\n",
    "#     out[type].write(header2+\"\\n\")\n",
    "\n",
    "# print (sites) \n",
    "# for type in types:   \n",
    "#     for site in sites:\n",
    "#         result = \"%30s\"%site\n",
    "#         outstring = \"%s\"%site\n",
    "#         total = 0.0\n",
    "#         for date in dates:\n",
    "#             result += \" %10.3f\"%Data[type][site][date]\n",
    "#             outstring += \", %10.3f\"%(Data[type][site][date])\n",
    "#             total += Data[type][site][date]\n",
    "#         #print (outstring)\n",
    "#         outstring += \",%10.3f\\n\"%total\n",
    "#         out[type].write(outstring)\n",
    "#     out[type].close()"
   ]
  },
  {
   "cell_type": "code",
   "execution_count": 15,
   "id": "46a6f230-6b51-41d4-9d14-b9af0715a633",
   "metadata": {},
   "outputs": [
    {
     "name": "stdout",
     "output_type": "stream",
     "text": [
      "2022-12 2023-11\n",
      "['BR_CBPF', 'CA_SFU', 'CA_Victoria', 'CERN', 'CH_UNIBE-LHEP', 'CZ_FZU', 'ES_CIEMAT', 'ES_PIC', 'FR_CCIN2P3', 'IN_TIFR', 'IT_CNAF', 'NL_NIKHEF', 'NL_SURFsara', 'RU_JINR', 'UK_Bristol', 'UK_Brunel', 'UK_Edinburgh', 'UK_Imperial', 'UK_Lancaster', 'UK_Liverpool', 'UK_Manchester', 'UK_Oxford', 'UK_QMUL', 'UK_RAL-PPD', 'UK_RAL-Tier1', 'UK_Sheffield', 'US_BNL', 'US_Caltech', 'US_Colorado', 'US_FNAL-FermiGrid', 'US_FNAL-T1', 'US_FermiGrid', 'US_MWT2', 'US_Michigan', 'US_NERSC', 'US_Nebraska', 'US_NotreDame', 'US_Omaha', 'US_PuertoRico', 'US_SU-ITS', 'US_Swan', 'US_UCSD', 'US_UChicago', 'US_UConn-HPC', 'US_WSU', 'US_Wisconsin', 'undefined']\n"
     ]
    }
   ],
   "source": [
    "bydate(array=Data,types=types,locations=sites,dates=dates,units=outunits,format=format,tag=\"BySite\")"
   ]
  },
  {
   "cell_type": "code",
   "execution_count": 16,
   "id": "1150b2bb-c7d0-4684-a685-36a859f32879",
   "metadata": {},
   "outputs": [
    {
     "name": "stdout",
     "output_type": "stream",
     "text": [
      "2022-12 2023-11\n",
      "['BR', 'CA', 'CERN', 'CH', 'CZ', 'ES', 'FR', 'IN', 'IT', 'NL', 'RU', 'UK', 'US', 'undefined']\n"
     ]
    }
   ],
   "source": [
    "bydate(array=ByCountry,types=types,locations=countries,dates=dates,units=outunits,format=format,tag=\"ByCountry\")"
   ]
  },
  {
   "cell_type": "code",
   "execution_count": 17,
   "id": "ec98cad3-5c06-43a2-9638-2bcd41a8286e",
   "metadata": {},
   "outputs": [],
   "source": [
    "# header = \"   time in %s by country      \"%outunits\n",
    "# header2 = header\n",
    "\n",
    "# for date in dates:\n",
    "#     header += \"%10s\"%date\n",
    "#     header2 += \",%s\"%date\n",
    "# header += \"     Total\"\n",
    "# header2 += \",Total\\n\"\n",
    "\n",
    "# out = {}\n",
    "# for type in types:\n",
    "#     outname = \"output/%s_ByCountry_%s_%s_%s.csv\"%(type,outunits,lowdate,highdate)\n",
    "#     out[type] = open(outname,'w')\n",
    "#     out[type].write(header2)\n",
    "\n",
    "# print (countries) \n",
    "\n",
    "# for type in types:  \n",
    "#     totalbydate = {}\n",
    "#     for date in dates:\n",
    "#         totalbydate[date] = 0.0\n",
    "#     totaltotal = 0.0\n",
    "#     for site in countries:\n",
    "#         result = \"%30s\"%site\n",
    "#         outstring = \"%s\"%site\n",
    "#         total = 0.0\n",
    "        \n",
    "#         for date in dates:\n",
    "#             result += \" %10.3f\"%(ByCountry[type][site][date])\n",
    "#             outstring += \", %10.3f\"%(ByCountry[type][site][date])\n",
    "#             total += (ByCountry[type][site][date])\n",
    "#             totalbydate[date]+= (ByCountry[type][site][date])\n",
    "#         totaltotal+=total           \n",
    "#         outstring += \",%10.3f\\n\"%total\n",
    "#         #print (outstring)\n",
    "#         out[type].write(outstring)\n",
    "#     outstring = \"%s\"%\"Total\"\n",
    "#     for date in dates:\n",
    "#         outstring += \", %10.3f\"%(totalbydate[date])\n",
    "#     outstring += \",%10.3f\\n\"%totaltotal \n",
    "#     out[type].write(outstring)\n",
    "#     out[type].close()"
   ]
  },
  {
   "cell_type": "code",
   "execution_count": null,
   "id": "bb53c1db-822e-4e0f-9017-7b39425bb05f",
   "metadata": {},
   "outputs": [],
   "source": []
  }
 ],
 "metadata": {
  "kernelspec": {
   "display_name": "Python 3 (ipykernel)",
   "language": "python",
   "name": "python3"
  },
  "language_info": {
   "codemirror_mode": {
    "name": "ipython",
    "version": 3
   },
   "file_extension": ".py",
   "mimetype": "text/x-python",
   "name": "python",
   "nbconvert_exporter": "python",
   "pygments_lexer": "ipython3",
   "version": "3.9.6"
  }
 },
 "nbformat": 4,
 "nbformat_minor": 5
}
