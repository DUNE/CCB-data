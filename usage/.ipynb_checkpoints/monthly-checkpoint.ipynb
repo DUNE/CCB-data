{
 "cells": [
  {
   "cell_type": "code",
   "execution_count": 1,
   "id": "1e16a5fe",
   "metadata": {},
   "outputs": [],
   "source": [
    "# link = \"https://fifemon.fnal.gov/kibana/app/kibana#/visualize/edit/33d02c40-8b41-11ee-804b-5759672b811c?_g=(refreshInterval:(pause:!t,value:0),time:(from:'2022-01-01T06:00:00.000Z',mode:absolute,to:'2023-11-25T03:09:25.714Z'))&_a=(filters:!(),linked:!f,query:(language:lucene,query:'Jobsub_Group:dune'),uiState:(vis:(params:(sort:(columnIndex:!n,direction:!n)))),vis:(aggs:!((enabled:!t,id:'1',params:(field:SlotHours),schema:metric,type:sum),(enabled:!t,id:'3',params:(field:MachineAttrGLIDEIN_DUNESite0,missingBucket:!f,missingBucketLabel:Missing,order:desc,orderBy:'1',otherBucket:!f,otherBucketLabel:Other,size:50),schema:bucket,type:terms),(enabled:!t,id:'5',params:(customInterval:'2h',drop_partials:!f,extended_bounds:(),field:'@timestamp',interval:M,min_doc_count:1,timeRange:(from:'2022-01-01T06:00:00.000Z',mode:absolute,to:'2023-11-25T03:09:25.714Z'),useNormalizedEsInterval:!t),schema:bucket,type:date_histogram),(enabled:!t,id:'4',params:(filters:!((input:(query:'NOT(Owner:dunepro)%20AND%20NOT(Jobsub_SubGroup:mars)'),label:Analysis),(input:(query:'Owner:dunepro'),label:Production),(input:(query:'Jobsub_SubGroup:mars'),label:MARS),(input:(query:'*'),label:Total))),schema:bucket,type:filters)),params:(perPage:24,showMetricsAtAllLevels:!f,showPartialRows:!f,showTotal:!f,sort:(columnIndex:!n,direction:!n),totalFunc:sum),title:'DUNE%20monthly%20slot%20hours%20by%20site%20and%20role',type:table))\""
   ]
  },
  {
   "cell_type": "code",
   "execution_count": 2,
   "id": "50f0a4d3-aad5-4acd-a241-2373d60c9e1b",
   "metadata": {},
   "outputs": [],
   "source": [
    "# go to that link, go to inspect and save as formatted csv\n"
   ]
  },
  {
   "cell_type": "code",
   "execution_count": null,
   "id": "ccfd65c1-4b61-4ac3-b853-f2dea495cc1c",
   "metadata": {},
   "outputs": [],
   "source": []
  },
  {
   "cell_type": "code",
   "execution_count": 3,
   "id": "0747a4c0-7b4f-4b6f-8a7e-b7813f5635d1",
   "metadata": {},
   "outputs": [],
   "source": [
    "import csv\n",
    "import numpy, matplotlib "
   ]
  },
  {
   "cell_type": "code",
   "execution_count": 4,
   "id": "8ffc0864-f085-4db4-9572-07bd4ae0b4ae",
   "metadata": {},
   "outputs": [
    {
     "name": "stderr",
     "output_type": "stream",
     "text": [
      "IOPub data rate exceeded.\n",
      "The Jupyter server will temporarily stop sending output\n",
      "to the client in order to avoid crashing it.\n",
      "To change this limit, set the config variable\n",
      "`--ServerApp.iopub_data_rate_limit`.\n",
      "\n",
      "Current values:\n",
      "ServerApp.iopub_data_rate_limit=1000000.0 (bytes/sec)\n",
      "ServerApp.rate_limit_window=3.0 (secs)\n",
      "\n"
     ]
    }
   ],
   "source": [
    "\n",
    "\n",
    "Data = {}\n",
    "sites = []\n",
    "types = []\n",
    "dates = []\n",
    "with open('DUNE monthly slot hours by site and role-2.csv') as csv_file:\n",
    "    csv_reader = csv.reader(csv_file, delimiter=',')\n",
    "    line_count = 0\n",
    "    \n",
    "    for row in csv_reader:\n",
    "        print (row)\n",
    "        line_count += 1\n",
    "        if line_count == 1:\n",
    "            labels = row\n",
    "            continue\n",
    "        site = row[0]   \n",
    "        date = row[1]\n",
    "        type = row[2]\n",
    "        value = row[3]\n",
    "        \n",
    "        if type not in types:\n",
    "            print (\"add type\",type)\n",
    "            Data[type]={}\n",
    "            types.append(type)\n",
    "            \n",
    "        if site not in Data[type].keys():\n",
    "            print (\"add site\",site)\n",
    "            Data[type][site]={}\n",
    "            \n",
    "#         if date not in Data[type][site].keys():\n",
    "#             print (\"add date\",date)\n",
    "#             dates.append(date)\n",
    "        \n",
    "        Data[type][site][date]=value\n",
    "        \n",
    "        print (Data)\n",
    "        \n",
    "        \n",
    "        \n",
    "        print (sites,types,dates)\n",
    "\n",
    "\n",
    "        \n",
    "       \n",
    "        \n",
    "        "
   ]
  },
  {
   "cell_type": "code",
   "execution_count": null,
   "id": "ada6c21a",
   "metadata": {},
   "outputs": [],
   "source": []
  }
 ],
 "metadata": {
  "kernelspec": {
   "display_name": "Python 3 (ipykernel)",
   "language": "python",
   "name": "python3"
  },
  "language_info": {
   "codemirror_mode": {
    "name": "ipython",
    "version": 3
   },
   "file_extension": ".py",
   "mimetype": "text/x-python",
   "name": "python",
   "nbconvert_exporter": "python",
   "pygments_lexer": "ipython3",
   "version": "3.9.6"
  }
 },
 "nbformat": 4,
 "nbformat_minor": 5
}
